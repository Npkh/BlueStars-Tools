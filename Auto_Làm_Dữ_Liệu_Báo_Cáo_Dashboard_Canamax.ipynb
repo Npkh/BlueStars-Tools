{
  "nbformat": 4,
  "nbformat_minor": 0,
  "metadata": {
    "colab": {
      "provenance": [],
      "authorship_tag": "ABX9TyO56VOAmce+vnQeBjZYuuSo",
      "include_colab_link": true
    },
    "kernelspec": {
      "name": "python3",
      "display_name": "Python 3"
    },
    "language_info": {
      "name": "python"
    }
  },
  "cells": [
    {
      "cell_type": "markdown",
      "metadata": {
        "id": "view-in-github",
        "colab_type": "text"
      },
      "source": [
        "<a href=\"https://colab.research.google.com/github/Npkh/BlueStars-Tools/blob/main/Auto_L%C3%A0m_D%E1%BB%AF_Li%E1%BB%87u_B%C3%A1o_C%C3%A1o_Dashboard_Canamax.ipynb\" target=\"_parent\"><img src=\"https://colab.research.google.com/assets/colab-badge.svg\" alt=\"Open In Colab\"/></a>"
      ]
    },
    {
      "cell_type": "markdown",
      "source": [
        "# **Cách Thực Hiện Auto Làm Dữ Liệu Dashboard**\n",
        "*   B1: Tải File checklist sản phẩm về (file này là checklist sản phẩm, có thể cần cập nhật trong tương lai hoặc trong quá trình lọc thiếu sản phẩm. File này chỉ tải về 1 lần duy nhất là lần đầu sử dụng code. Sau đó lưu và cập nhật tên sản phẩm trực tiếp vào file này trong tương lai)\n",
        "\n",
        "[***File checklist sản phẩm***](https://docs.google.com/spreadsheets/d/1LdJtTZxRaRQurNjtGYs6KfFgG031N_Xz/edit?usp=sharing&ouid=105336776683915595895&rtpof=true&sd=true)\n",
        "\n",
        "*   B2: Copy từng dữ liệu của data (SB, SD, SP) sau khi tải về vào sheet \"data\", sheet này cần được clear data mỗi lần thực hiện xong báo cáo\n",
        "\n",
        "*   B3: Lưu và upload file này lên trên đoạn code này, bên dưới có option \"Upload file\"\n",
        "\n",
        "*   B4: Kết quả tải về cần format lại định dạng một số cột như:\n",
        "  - Date, Lauching time theo format cần thiết\n",
        "  - Budget, Spend, CPC, Sale sang dạng currency\n",
        "\n",
        "*   B5: Kiểm tra cuối cùng đoạn code để biết có cần cập nhật checklist hay không\n",
        "\n",
        "***Lưu Ý***:\n",
        "*   Đoạn code sẽ tự động chạy và tải về kết quả, nếu không có kết quả tải về thì đoạn code đã bị lỗi, cần check lại các bước đã làm đúng hay chưa. Thời gian chạy code khoảng 30s-40s\n",
        "\n",
        "*   Nếu chẳng may xóa một đoạn code nào đó, reload lại trang này để khôi phục code\n",
        "\n",
        "*   Phải đăng nhập google drive mới có thể chạy Run all\n",
        "\n",
        "*   Các cột có giá trị là **currency** đã được tự động *0.76 khi nhập market là Canada\n",
        "\n",
        "*   Làm từng data một, không copy hết vào chung sheet data. Làm xong data nào thì clear data ở sheet \"data\" và paste data mới vào\n"
      ],
      "metadata": {
        "id": "YJ4AGnwUSOrO"
      }
    },
    {
      "cell_type": "code",
      "execution_count": null,
      "metadata": {
        "id": "hRn-GLVbf-nu"
      },
      "outputs": [],
      "source": [
        "import pandas as pd\n",
        "import numpy as np\n",
        "from datetime import datetime\n",
        "from google.colab import files\n",
        "import warnings"
      ]
    },
    {
      "cell_type": "code",
      "source": [
        "market_input = input(\"Nhập thị trường tương ứng (United States or Canada): \")\n",
        "ad_type = input(\"Nhập ad_type tương ứng (SP, SD, SB): \")\n",
        "file_name_output = input(\"Nhập tên file Excel muốn lưu: \")\n",
        "uploaded = files.upload()"
      ],
      "metadata": {
        "colab": {
          "base_uri": "https://localhost:8080/",
          "height": 125
        },
        "id": "GMWrQVmBwzeS",
        "outputId": "aab99c21-09d0-4198-b240-15f8bba62e3e"
      },
      "execution_count": null,
      "outputs": [
        {
          "name": "stdout",
          "output_type": "stream",
          "text": [
            "Nhập thị trường tương ứng (United States or Canada): Canada\n",
            "Nhập ad_type tương ứng (SP, SD, SB): SP\n",
            "Nhập tên file Excel muốn lưu: a\n"
          ]
        },
        {
          "output_type": "display_data",
          "data": {
            "text/plain": [
              "<IPython.core.display.HTML object>"
            ],
            "text/html": [
              "\n",
              "     <input type=\"file\" id=\"files-db80ab54-9588-44d6-8c09-094d0c17f991\" name=\"files[]\" multiple disabled\n",
              "        style=\"border:none\" />\n",
              "     <output id=\"result-db80ab54-9588-44d6-8c09-094d0c17f991\">\n",
              "      Upload widget is only available when the cell has been executed in the\n",
              "      current browser session. Please rerun this cell to enable.\n",
              "      </output>\n",
              "      <script>// Copyright 2017 Google LLC\n",
              "//\n",
              "// Licensed under the Apache License, Version 2.0 (the \"License\");\n",
              "// you may not use this file except in compliance with the License.\n",
              "// You may obtain a copy of the License at\n",
              "//\n",
              "//      http://www.apache.org/licenses/LICENSE-2.0\n",
              "//\n",
              "// Unless required by applicable law or agreed to in writing, software\n",
              "// distributed under the License is distributed on an \"AS IS\" BASIS,\n",
              "// WITHOUT WARRANTIES OR CONDITIONS OF ANY KIND, either express or implied.\n",
              "// See the License for the specific language governing permissions and\n",
              "// limitations under the License.\n",
              "\n",
              "/**\n",
              " * @fileoverview Helpers for google.colab Python module.\n",
              " */\n",
              "(function(scope) {\n",
              "function span(text, styleAttributes = {}) {\n",
              "  const element = document.createElement('span');\n",
              "  element.textContent = text;\n",
              "  for (const key of Object.keys(styleAttributes)) {\n",
              "    element.style[key] = styleAttributes[key];\n",
              "  }\n",
              "  return element;\n",
              "}\n",
              "\n",
              "// Max number of bytes which will be uploaded at a time.\n",
              "const MAX_PAYLOAD_SIZE = 100 * 1024;\n",
              "\n",
              "function _uploadFiles(inputId, outputId) {\n",
              "  const steps = uploadFilesStep(inputId, outputId);\n",
              "  const outputElement = document.getElementById(outputId);\n",
              "  // Cache steps on the outputElement to make it available for the next call\n",
              "  // to uploadFilesContinue from Python.\n",
              "  outputElement.steps = steps;\n",
              "\n",
              "  return _uploadFilesContinue(outputId);\n",
              "}\n",
              "\n",
              "// This is roughly an async generator (not supported in the browser yet),\n",
              "// where there are multiple asynchronous steps and the Python side is going\n",
              "// to poll for completion of each step.\n",
              "// This uses a Promise to block the python side on completion of each step,\n",
              "// then passes the result of the previous step as the input to the next step.\n",
              "function _uploadFilesContinue(outputId) {\n",
              "  const outputElement = document.getElementById(outputId);\n",
              "  const steps = outputElement.steps;\n",
              "\n",
              "  const next = steps.next(outputElement.lastPromiseValue);\n",
              "  return Promise.resolve(next.value.promise).then((value) => {\n",
              "    // Cache the last promise value to make it available to the next\n",
              "    // step of the generator.\n",
              "    outputElement.lastPromiseValue = value;\n",
              "    return next.value.response;\n",
              "  });\n",
              "}\n",
              "\n",
              "/**\n",
              " * Generator function which is called between each async step of the upload\n",
              " * process.\n",
              " * @param {string} inputId Element ID of the input file picker element.\n",
              " * @param {string} outputId Element ID of the output display.\n",
              " * @return {!Iterable<!Object>} Iterable of next steps.\n",
              " */\n",
              "function* uploadFilesStep(inputId, outputId) {\n",
              "  const inputElement = document.getElementById(inputId);\n",
              "  inputElement.disabled = false;\n",
              "\n",
              "  const outputElement = document.getElementById(outputId);\n",
              "  outputElement.innerHTML = '';\n",
              "\n",
              "  const pickedPromise = new Promise((resolve) => {\n",
              "    inputElement.addEventListener('change', (e) => {\n",
              "      resolve(e.target.files);\n",
              "    });\n",
              "  });\n",
              "\n",
              "  const cancel = document.createElement('button');\n",
              "  inputElement.parentElement.appendChild(cancel);\n",
              "  cancel.textContent = 'Cancel upload';\n",
              "  const cancelPromise = new Promise((resolve) => {\n",
              "    cancel.onclick = () => {\n",
              "      resolve(null);\n",
              "    };\n",
              "  });\n",
              "\n",
              "  // Wait for the user to pick the files.\n",
              "  const files = yield {\n",
              "    promise: Promise.race([pickedPromise, cancelPromise]),\n",
              "    response: {\n",
              "      action: 'starting',\n",
              "    }\n",
              "  };\n",
              "\n",
              "  cancel.remove();\n",
              "\n",
              "  // Disable the input element since further picks are not allowed.\n",
              "  inputElement.disabled = true;\n",
              "\n",
              "  if (!files) {\n",
              "    return {\n",
              "      response: {\n",
              "        action: 'complete',\n",
              "      }\n",
              "    };\n",
              "  }\n",
              "\n",
              "  for (const file of files) {\n",
              "    const li = document.createElement('li');\n",
              "    li.append(span(file.name, {fontWeight: 'bold'}));\n",
              "    li.append(span(\n",
              "        `(${file.type || 'n/a'}) - ${file.size} bytes, ` +\n",
              "        `last modified: ${\n",
              "            file.lastModifiedDate ? file.lastModifiedDate.toLocaleDateString() :\n",
              "                                    'n/a'} - `));\n",
              "    const percent = span('0% done');\n",
              "    li.appendChild(percent);\n",
              "\n",
              "    outputElement.appendChild(li);\n",
              "\n",
              "    const fileDataPromise = new Promise((resolve) => {\n",
              "      const reader = new FileReader();\n",
              "      reader.onload = (e) => {\n",
              "        resolve(e.target.result);\n",
              "      };\n",
              "      reader.readAsArrayBuffer(file);\n",
              "    });\n",
              "    // Wait for the data to be ready.\n",
              "    let fileData = yield {\n",
              "      promise: fileDataPromise,\n",
              "      response: {\n",
              "        action: 'continue',\n",
              "      }\n",
              "    };\n",
              "\n",
              "    // Use a chunked sending to avoid message size limits. See b/62115660.\n",
              "    let position = 0;\n",
              "    do {\n",
              "      const length = Math.min(fileData.byteLength - position, MAX_PAYLOAD_SIZE);\n",
              "      const chunk = new Uint8Array(fileData, position, length);\n",
              "      position += length;\n",
              "\n",
              "      const base64 = btoa(String.fromCharCode.apply(null, chunk));\n",
              "      yield {\n",
              "        response: {\n",
              "          action: 'append',\n",
              "          file: file.name,\n",
              "          data: base64,\n",
              "        },\n",
              "      };\n",
              "\n",
              "      let percentDone = fileData.byteLength === 0 ?\n",
              "          100 :\n",
              "          Math.round((position / fileData.byteLength) * 100);\n",
              "      percent.textContent = `${percentDone}% done`;\n",
              "\n",
              "    } while (position < fileData.byteLength);\n",
              "  }\n",
              "\n",
              "  // All done.\n",
              "  yield {\n",
              "    response: {\n",
              "      action: 'complete',\n",
              "    }\n",
              "  };\n",
              "}\n",
              "\n",
              "scope.google = scope.google || {};\n",
              "scope.google.colab = scope.google.colab || {};\n",
              "scope.google.colab._files = {\n",
              "  _uploadFiles,\n",
              "  _uploadFilesContinue,\n",
              "};\n",
              "})(self);\n",
              "</script> "
            ]
          },
          "metadata": {}
        },
        {
          "output_type": "stream",
          "name": "stdout",
          "text": [
            "Saving Checklist Canamax.xlsx to Checklist Canamax (4).xlsx\n"
          ]
        }
      ]
    },
    {
      "cell_type": "code",
      "source": [
        "dfs = {}\n",
        "\n",
        "for file_name in uploaded.keys():\n",
        "    xls = pd.ExcelFile(file_name)\n",
        "    sheet_names = xls.sheet_names\n",
        "\n",
        "    for sheet_name in sheet_names:\n",
        "        dfs[sheet_name] = pd.read_excel(file_name, sheet_name=sheet_name)\n",
        "\n",
        "product_id = dfs['product_info']\n",
        "report = dfs['data']"
      ],
      "metadata": {
        "id": "bxqIGyjvhfSL"
      },
      "execution_count": null,
      "outputs": []
    },
    {
      "cell_type": "code",
      "source": [
        "product_id['product_id'] = product_id['product_id'].astype(str)\n",
        "report['Campaign Name'] = report['Campaign Name'].astype(str)\n",
        "def find_product_number(campaign_name):\n",
        "    matching_product_numbers = []\n",
        "\n",
        "    for product_number in product_id['product_id']:\n",
        "        product_words = product_number.split()\n",
        "        words_to_match = campaign_name.split()\n",
        "        matching_sequence = \"\"\n",
        "        product_idx = 0\n",
        "\n",
        "        if words_to_match[0].lower() == \"xmars\" and words_to_match[1].lower() == \"ai\":\n",
        "            words_to_match = words_to_match[2:]\n",
        "\n",
        "        for word in words_to_match:\n",
        "            if product_idx < len(product_words) and word.lower() == product_words[product_idx].lower():\n",
        "                matching_sequence += word + \" \"\n",
        "                product_idx += 1\n",
        "            else:\n",
        "                break\n",
        "\n",
        "        if matching_sequence.strip().lower() == product_number.lower():\n",
        "            matching_product_numbers.append(product_number)\n",
        "\n",
        "    if matching_product_numbers:\n",
        "        matching_product_numbers.sort(key=lambda x: len(x), reverse=True)\n",
        "        return matching_product_numbers[0]\n",
        "\n",
        "    return None\n",
        "report['Product Number'] = report['Campaign Name'].apply(find_product_number)"
      ],
      "metadata": {
        "id": "QZ2MR9ejOfs7"
      },
      "execution_count": null,
      "outputs": []
    },
    {
      "cell_type": "code",
      "source": [
        "def get_matching_sku(campaign_name):\n",
        "    for sku in product_id['SKU']:\n",
        "        if sku in campaign_name:\n",
        "            return sku\n",
        "    return None\n",
        "\n",
        "report['SKU'] = report['Campaign Name'].apply(get_matching_sku)"
      ],
      "metadata": {
        "id": "-Iuq8zQYOoOt"
      },
      "execution_count": null,
      "outputs": []
    },
    {
      "cell_type": "code",
      "source": [
        "trim_column_names = lambda x: x.strip()\n",
        "report.rename(columns=trim_column_names, inplace=True)\n",
        "\n",
        "if ad_type == 'SP':\n",
        "    report.rename(columns={'Click-Thru Rate (CTR)':'CTR',\n",
        "                     'Cost Per Click (CPC)':'CPC',\n",
        "                     '7 Day Total Orders (#)':'Orders',\n",
        "                     'Total Advertising Cost of Sales (ACOS)':'ACOS',\n",
        "                     'Total Return on Advertising Spend (ROAS)':'ROAS',\n",
        "                     '7 Day Total Sales':'Sales'}, inplace=True)\n",
        "else:\n",
        "    report.rename(columns={'Click-Thru Rate (CTR)':'CTR',\n",
        "                         'Cost Per Click (CPC)':'CPC',\n",
        "                         '14 Day Total Orders (#)':'Orders',\n",
        "                         'Total Advertising Cost of Sales (ACOS)':'ACOS',\n",
        "                         'Total Return on Advertising Spend (ROAS)':'ROAS',\n",
        "                         '14 Day Total Sales':'Sales'}, inplace=True)"
      ],
      "metadata": {
        "id": "FDlWeiNBgaG9"
      },
      "execution_count": null,
      "outputs": []
    },
    {
      "cell_type": "code",
      "source": [
        "if ad_type != \"SB\" and report['Budget'].dtype == 'object':\n",
        "\n",
        "    report['Budget'] = report['Budget'].astype(str)\n",
        "\n",
        "    report['Budget'] = report['Budget'].str.replace(\"CA\", \"\").str.replace(\"US\", \"\").str.replace(\"$\", \"\")\n",
        "\n",
        "    report['Budget'] = report['Budget'].astype(float)\n",
        "\n",
        "if report['Spend'].dtype == 'object':\n",
        "\n",
        "    report['Spend'] = report['Spend'].astype(str)\n",
        "\n",
        "    report['Spend'] = report['Spend'].str.replace(\"CA\", \"\").str.replace(\"US\", \"\").str.replace(\"$\", \"\")\n",
        "\n",
        "    report['Spend'] = report['Spend'].astype(float)\n",
        "\n",
        "if report['CPC'].dtype == 'object':\n",
        "\n",
        "    report['CPC'] = report['CPC'].astype(str)\n",
        "\n",
        "    report['CPC'] = report['CPC'].str.replace(\"CA\", \"\").str.replace(\"US\", \"\").str.replace(\"$\", \"\")\n",
        "\n",
        "    report['CPC'] = report['CPC'].astype(float)\n",
        "\n",
        "if report['Sales'].dtype == 'object':\n",
        "\n",
        "    report['Sales'] = report['Sales'].astype(str)\n",
        "\n",
        "    report['Sales'] = report['Sales'].str.replace(\"CA\", \"\").str.replace(\"US\", \"\").str.replace(\"$\", \"\")\n",
        "\n",
        "    report['Sales'] = report['Sales'].astype(float)"
      ],
      "metadata": {
        "id": "69VDrtWVrsLU",
        "colab": {
          "base_uri": "https://localhost:8080/"
        },
        "outputId": "bc6a80e1-a81d-47db-9dde-bd53f75a37a9"
      },
      "execution_count": null,
      "outputs": [
        {
          "output_type": "stream",
          "name": "stderr",
          "text": [
            "<ipython-input-34-7b148b4c3319>:5: FutureWarning: The default value of regex will change from True to False in a future version. In addition, single character regular expressions will *not* be treated as literal strings when regex=True.\n",
            "  report['Budget'] = report['Budget'].str.replace(\"CA\", \"\").str.replace(\"US\", \"\").str.replace(\"$\", \"\")\n",
            "<ipython-input-34-7b148b4c3319>:13: FutureWarning: The default value of regex will change from True to False in a future version. In addition, single character regular expressions will *not* be treated as literal strings when regex=True.\n",
            "  report['Spend'] = report['Spend'].str.replace(\"CA\", \"\").str.replace(\"US\", \"\").str.replace(\"$\", \"\")\n",
            "<ipython-input-34-7b148b4c3319>:21: FutureWarning: The default value of regex will change from True to False in a future version. In addition, single character regular expressions will *not* be treated as literal strings when regex=True.\n",
            "  report['CPC'] = report['CPC'].str.replace(\"CA\", \"\").str.replace(\"US\", \"\").str.replace(\"$\", \"\")\n",
            "<ipython-input-34-7b148b4c3319>:29: FutureWarning: The default value of regex will change from True to False in a future version. In addition, single character regular expressions will *not* be treated as literal strings when regex=True.\n",
            "  report['Sales'] = report['Sales'].str.replace(\"CA\", \"\").str.replace(\"US\", \"\").str.replace(\"$\", \"\")\n"
          ]
        }
      ]
    },
    {
      "cell_type": "code",
      "source": [
        "report['Product Number'] = report['Product Number'].astype(str)\n",
        "report['SKU'] = report['SKU'].astype(str)"
      ],
      "metadata": {
        "id": "VQzDbgrew9PQ"
      },
      "execution_count": null,
      "outputs": []
    },
    {
      "cell_type": "code",
      "source": [
        "report['Cost Type'] = report['Campaign Name'].apply(lambda x: 'CPM' if 'CPM' in x else 'CPC')\n",
        "\n",
        "if ad_type == \"SP\":\n",
        "  def classify_campaign_name(campaign_name):\n",
        "      if \"Auto\" in campaign_name:\n",
        "          return \"Auto\"\n",
        "      elif \"Query\" in campaign_name:\n",
        "          return \"SP Query\"\n",
        "      elif \"jido\" in campaign_name:\n",
        "          return \"Auto\"\n",
        "      elif \"Research\" in campaign_name:\n",
        "          return \"Research\"\n",
        "      elif \"Performance\" in campaign_name:\n",
        "          return \"Performance\"\n",
        "      elif \"term\" in campaign_name:\n",
        "          return \"search terms\"\n",
        "      elif \" TD\" in campaign_name:\n",
        "          return \"TD\"\n",
        "      elif \"Broad\" in campaign_name:\n",
        "          return \"SP Broad\"\n",
        "      elif \"Exact\" in campaign_name:\n",
        "          return \"SP Exact\"\n",
        "      elif \"TOS\" in campaign_name:\n",
        "          return \"TOS\"\n",
        "      elif \" PP\" in campaign_name:\n",
        "          return \"PP\"\n",
        "      elif \" PT\" in campaign_name:\n",
        "          return \"SP PT\"\n",
        "      elif \"EX8\" in campaign_name:\n",
        "          return \"SP Exact\"\n",
        "      else:\n",
        "          return \"SP Phrase\"\n",
        "\n",
        "elif ad_type == \"SB\":\n",
        "  def classify_campaign_name(campaign_name):\n",
        "      if \"Video Ads Phrase\" in campaign_name:\n",
        "          return \"SB Video Phrase\"\n",
        "      elif \"Video Ads Broad\" in campaign_name:\n",
        "          return \"SB Video Broad\"\n",
        "      elif \"SB\" in campaign_name:\n",
        "          return \"SB\"\n",
        "      elif \"Video Ads PT\" in campaign_name:\n",
        "          return \"SB Video PT\"\n",
        "      elif \"Video Ads Query\" in campaign_name:\n",
        "          return \"SB Video Query\"\n",
        "      else:\n",
        "          return \"SB Video Exact\"\n",
        "\n",
        "if ad_type == \"SD\":\n",
        "  report['Campaign Form'] = 'SD PT'\n",
        "else:\n",
        "  report['Campaign Form'] = report['Campaign Name'].apply(classify_campaign_name)\n",
        "\n",
        "if market_input == \"Canada\":\n",
        "  report['Spend'] = report['Spend'] * 0.76\n",
        "  report['Sales'] = report['Sales'] * 0.76\n",
        "\n",
        "report['Market'] = market_input\n",
        "report['Brand'] = \"Canamax\"\n",
        "\n",
        "if ad_type == \"SB\":\n",
        "  report[\"Campaign Type\"] = 'Sponsor Brands'\n",
        "  report[\"Status\"] = np.nan\n",
        "  report[\"Budget\"] = np.nan\n",
        "  report[\"Targeting Type\"] = np.nan\n",
        "  report[\"Bidding strategy\"] = np.nan\n",
        "\n",
        "elif ad_type == \"SD\":\n",
        "  report[\"Campaign Type\"] = 'Sponsor Display'\n",
        "  report[\"Targeting Type\"] = np.nan\n",
        "  report[\"Bidding strategy\"] = np.nan\n",
        "\n",
        "def classify_value(value):\n",
        "    if '&' in value:\n",
        "        return \"Combo\"\n",
        "    elif 'PO' in value:\n",
        "        return \"Pack\"\n",
        "    else:\n",
        "        return \"Single\"\n",
        "\n",
        "report['Product Type'] = report['Product Number'].apply(classify_value)\n",
        "report['Start Date'] = np.nan\n",
        "report['End Date'] = np.nan\n",
        "\n",
        "order1 = ['Date', 'Campaign Type', 'Campaign Name','Bidding strategy',\n",
        "         'Impressions','Clicks', 'Spend',\n",
        "         'Orders', 'Sales', 'Product Number',\n",
        "         'Campaign Form', 'Market', 'Brand', 'Cost Type', 'SKU']\n",
        "\n",
        "data_merge1 = report[order1]"
      ],
      "metadata": {
        "id": "Y0al_rtlig7a"
      },
      "execution_count": null,
      "outputs": []
    },
    {
      "cell_type": "code",
      "source": [
        "if 'Product Number' in report.columns and 'SKU' in report.columns:\n",
        "    product_number_none = (report['Product Number'] == 'None').any()\n",
        "    sku_none = (report['SKU'] == 'None').any()\n",
        "\n",
        "    if product_number_none and sku_none:\n",
        "        print(\"WARNING: Cả hai cột Product Number và SKU đều có giá trị None, cần kiểm tra lại!!!\")\n",
        "    elif product_number_none:\n",
        "        print(\"WARNING: Cột 'Product Number' có giá trị None, cần kiểm tra lại!!!\")\n",
        "    elif sku_none:\n",
        "        print(\"WARNING: Cột 'SKU' có giá trị None, cần kiểm tra lại!!!\")\n",
        "    else:\n",
        "        print(\"Dữ liệu hoàn chỉnh. Không cần kiểm tra\")\n",
        "else:\n",
        "    print(\"Không tìm thấy cột 'Product Number' hoặc 'SKU' trong báo cáo.\")"
      ],
      "metadata": {
        "colab": {
          "base_uri": "https://localhost:8080/"
        },
        "id": "BXT6fs9gTX8K",
        "outputId": "48e8982c-ed90-40e7-b6aa-b4ce3cc6613b"
      },
      "execution_count": null,
      "outputs": [
        {
          "output_type": "stream",
          "name": "stdout",
          "text": [
            "Dữ liệu hoàn chỉnh. Không cần kiểm tra\n"
          ]
        }
      ]
    },
    {
      "cell_type": "code",
      "source": [
        "with pd.ExcelWriter(file_name_output + \".xlsx\") as writer:\n",
        "    data_merge1.to_excel(writer, sheet_name='Final data', index=False)\n",
        "\n",
        "files.download(file_name_output + \".xlsx\")"
      ],
      "metadata": {
        "id": "WZK1Mubmiimd",
        "colab": {
          "base_uri": "https://localhost:8080/",
          "height": 17
        },
        "outputId": "360add0e-cf9b-4ee1-9cfd-06bf95ad4c40"
      },
      "execution_count": null,
      "outputs": [
        {
          "output_type": "display_data",
          "data": {
            "text/plain": [
              "<IPython.core.display.Javascript object>"
            ],
            "application/javascript": [
              "\n",
              "    async function download(id, filename, size) {\n",
              "      if (!google.colab.kernel.accessAllowed) {\n",
              "        return;\n",
              "      }\n",
              "      const div = document.createElement('div');\n",
              "      const label = document.createElement('label');\n",
              "      label.textContent = `Downloading \"${filename}\": `;\n",
              "      div.appendChild(label);\n",
              "      const progress = document.createElement('progress');\n",
              "      progress.max = size;\n",
              "      div.appendChild(progress);\n",
              "      document.body.appendChild(div);\n",
              "\n",
              "      const buffers = [];\n",
              "      let downloaded = 0;\n",
              "\n",
              "      const channel = await google.colab.kernel.comms.open(id);\n",
              "      // Send a message to notify the kernel that we're ready.\n",
              "      channel.send({})\n",
              "\n",
              "      for await (const message of channel.messages) {\n",
              "        // Send a message to notify the kernel that we're ready.\n",
              "        channel.send({})\n",
              "        if (message.buffers) {\n",
              "          for (const buffer of message.buffers) {\n",
              "            buffers.push(buffer);\n",
              "            downloaded += buffer.byteLength;\n",
              "            progress.value = downloaded;\n",
              "          }\n",
              "        }\n",
              "      }\n",
              "      const blob = new Blob(buffers, {type: 'application/binary'});\n",
              "      const a = document.createElement('a');\n",
              "      a.href = window.URL.createObjectURL(blob);\n",
              "      a.download = filename;\n",
              "      div.appendChild(a);\n",
              "      a.click();\n",
              "      div.remove();\n",
              "    }\n",
              "  "
            ]
          },
          "metadata": {}
        },
        {
          "output_type": "display_data",
          "data": {
            "text/plain": [
              "<IPython.core.display.Javascript object>"
            ],
            "application/javascript": [
              "download(\"download_ac35a369-8571-4c6c-afac-13b239297f45\", \"a.xlsx\", 562104)"
            ]
          },
          "metadata": {}
        }
      ]
    }
  ]
}
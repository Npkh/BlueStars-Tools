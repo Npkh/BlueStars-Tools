{
  "cells": [
    {
      "cell_type": "markdown",
      "metadata": {
        "id": "view-in-github",
        "colab_type": "text"
      },
      "source": [
        "<a href=\"https://colab.research.google.com/github/Npkh/BlueStars-Tools/blob/main/T%E1%BA%A0O_CAMPAIGN_CHO_S%E1%BA%A2N_PH%E1%BA%A8M_M%E1%BB%9AI_CANAMAX.ipynb\" target=\"_parent\"><img src=\"https://colab.research.google.com/assets/colab-badge.svg\" alt=\"Open In Colab\"/></a>"
      ]
    },
    {
      "cell_type": "markdown",
      "source": [
        "# **HƯỚNG DẪN CÁC BƯỚC THỰC HIỆN** #\n",
        "1. Tạo 1 file excel có 04 sheet: \"lv1\", \"lv2\", \"negative\", \"competitor_asin\" - CHÚ Ý: TÊN SHEET VIẾT THƯỜNG HẾT. [SAMPLE](https://docs.google.com/spreadsheets/d/1Hf_tC6ROLWHD-u4X0fp1Ke3_UrPW-2_s5gjxGaQG10I/edit#gid=1601468489).\n",
        "2. LƯU Ý: Nếu sản phẩm không có keyword lv1 hoặc không có negative phrase, thì xóa hết dữ liệu ở sheet \"lv1\" và sheet \"negative\" chứ không xóa sheet.\n",
        "3. SAVE VÀ UPLOAD LÊN ĐÂY\n",
        "4. Chú ý đoạn nhập Portfolio ID vì nó là ID chứ không phải tên Porfolio. Tra cứu Portfolio ID ở đây --> [PORTFOLIO ID](https://docs.google.com/spreadsheets/d/1p6q4hy6duSR8RYQZjLTPbMVDtHjxMdz3JkDu_RCIJbw/edit#gid=0)\n",
        "5. Sử dụng file tải về upload lên [Bulk Amazon](https://advertising.amazon.com/bulksheet/HomePage)"
      ],
      "metadata": {
        "id": "Lm-aOiRsv-Jo"
      },
      "id": "Lm-aOiRsv-Jo"
    },
    {
      "cell_type": "markdown",
      "source": [
        "# **REQUIRED PACKAGE** #"
      ],
      "metadata": {
        "id": "n9kc345At6Tx"
      },
      "id": "n9kc345At6Tx"
    },
    {
      "cell_type": "code",
      "source": [
        "import pandas as pd\n",
        "import re\n",
        "from google.colab import files"
      ],
      "metadata": {
        "id": "IACS2Fjbt9RR"
      },
      "id": "IACS2Fjbt9RR",
      "execution_count": null,
      "outputs": []
    },
    {
      "cell_type": "markdown",
      "id": "bf8c7a95",
      "metadata": {
        "id": "bf8c7a95"
      },
      "source": [
        "# **NHẬP THÔNG TIN SẢN PHẨM** #"
      ]
    },
    {
      "cell_type": "code",
      "execution_count": null,
      "id": "4fd22f75",
      "metadata": {
        "id": "4fd22f75",
        "colab": {
          "base_uri": "https://localhost:8080/"
        },
        "outputId": "c236b1bd-403f-40b9-8405-eafe0f4b63b9"
      },
      "outputs": [
        {
          "name": "stdout",
          "output_type": "stream",
          "text": [
            "Nhập thị trường (US hoặc CA): US\n",
            "Nhập tên sản phẩm: 60+10 uf 370-440VAC\n",
            "Nhập SKU của sản phẩm: CA-LT12-CP08\n",
            "Nhập ASIN của sản phẩm: B0CQP434XC\n",
            "Nhập Portfolio ID quảng cáo của sản phẩm: 237648656264189\n",
            "Nhập ngày bắt đầu campaign (Format 'yyyymmdd'): 20240503\n",
            "Nhập danh sách ASINs collection (Format: ASIN1, ASIN2, ASIN3,...)\n",
            "Nhập link ảnh: \n",
            "Nhập link video: https://advertising.amazon.com/creative-assets/preview/amzn1.assetlibrary.asset1.f1d7a34584feff3f64c4bd4576d48739/version_v1?entityId=ENTITY2NZH287KPH8V8\n"
          ]
        }
      ],
      "source": [
        "market = input(\"Nhập thị trường (US hoặc CA): \")\n",
        "product_name = input(\"Nhập tên sản phẩm: \")\n",
        "SKU = input(\"Nhập SKU của sản phẩm: \")\n",
        "asin = input(\"Nhập ASIN của sản phẩm: \")\n",
        "portfolio = input(\"Nhập Portfolio ID quảng cáo của sản phẩm: \")\n",
        "start_date = input(\"Nhập ngày bắt đầu campaign (Format 'yyyymmdd'): \")\n",
        "target_asins = input(\"Nhập danh sách ASINs collection (Format: ASIN1, ASIN2, ASIN3,...)\")\n",
        "image = input(\"Nhập link ảnh: \")\n",
        "video = input(\"Nhập link video: \")"
      ]
    },
    {
      "cell_type": "markdown",
      "id": "8acfd2ca",
      "metadata": {
        "id": "8acfd2ca"
      },
      "source": [
        "# **UPLOAD VÀ XỬ LÝ FILE KEYWORD** #"
      ]
    },
    {
      "cell_type": "code",
      "execution_count": null,
      "id": "d2ca6621",
      "metadata": {
        "id": "d2ca6621",
        "colab": {
          "base_uri": "https://localhost:8080/",
          "height": 73
        },
        "outputId": "e9a64829-ed75-4dbb-b5e5-6f25ab1ec87a"
      },
      "outputs": [
        {
          "output_type": "display_data",
          "data": {
            "text/plain": [
              "<IPython.core.display.HTML object>"
            ],
            "text/html": [
              "\n",
              "     <input type=\"file\" id=\"files-ede1287c-9b95-4758-8d8e-d213eef52297\" name=\"files[]\" multiple disabled\n",
              "        style=\"border:none\" />\n",
              "     <output id=\"result-ede1287c-9b95-4758-8d8e-d213eef52297\">\n",
              "      Upload widget is only available when the cell has been executed in the\n",
              "      current browser session. Please rerun this cell to enable.\n",
              "      </output>\n",
              "      <script>// Copyright 2017 Google LLC\n",
              "//\n",
              "// Licensed under the Apache License, Version 2.0 (the \"License\");\n",
              "// you may not use this file except in compliance with the License.\n",
              "// You may obtain a copy of the License at\n",
              "//\n",
              "//      http://www.apache.org/licenses/LICENSE-2.0\n",
              "//\n",
              "// Unless required by applicable law or agreed to in writing, software\n",
              "// distributed under the License is distributed on an \"AS IS\" BASIS,\n",
              "// WITHOUT WARRANTIES OR CONDITIONS OF ANY KIND, either express or implied.\n",
              "// See the License for the specific language governing permissions and\n",
              "// limitations under the License.\n",
              "\n",
              "/**\n",
              " * @fileoverview Helpers for google.colab Python module.\n",
              " */\n",
              "(function(scope) {\n",
              "function span(text, styleAttributes = {}) {\n",
              "  const element = document.createElement('span');\n",
              "  element.textContent = text;\n",
              "  for (const key of Object.keys(styleAttributes)) {\n",
              "    element.style[key] = styleAttributes[key];\n",
              "  }\n",
              "  return element;\n",
              "}\n",
              "\n",
              "// Max number of bytes which will be uploaded at a time.\n",
              "const MAX_PAYLOAD_SIZE = 100 * 1024;\n",
              "\n",
              "function _uploadFiles(inputId, outputId) {\n",
              "  const steps = uploadFilesStep(inputId, outputId);\n",
              "  const outputElement = document.getElementById(outputId);\n",
              "  // Cache steps on the outputElement to make it available for the next call\n",
              "  // to uploadFilesContinue from Python.\n",
              "  outputElement.steps = steps;\n",
              "\n",
              "  return _uploadFilesContinue(outputId);\n",
              "}\n",
              "\n",
              "// This is roughly an async generator (not supported in the browser yet),\n",
              "// where there are multiple asynchronous steps and the Python side is going\n",
              "// to poll for completion of each step.\n",
              "// This uses a Promise to block the python side on completion of each step,\n",
              "// then passes the result of the previous step as the input to the next step.\n",
              "function _uploadFilesContinue(outputId) {\n",
              "  const outputElement = document.getElementById(outputId);\n",
              "  const steps = outputElement.steps;\n",
              "\n",
              "  const next = steps.next(outputElement.lastPromiseValue);\n",
              "  return Promise.resolve(next.value.promise).then((value) => {\n",
              "    // Cache the last promise value to make it available to the next\n",
              "    // step of the generator.\n",
              "    outputElement.lastPromiseValue = value;\n",
              "    return next.value.response;\n",
              "  });\n",
              "}\n",
              "\n",
              "/**\n",
              " * Generator function which is called between each async step of the upload\n",
              " * process.\n",
              " * @param {string} inputId Element ID of the input file picker element.\n",
              " * @param {string} outputId Element ID of the output display.\n",
              " * @return {!Iterable<!Object>} Iterable of next steps.\n",
              " */\n",
              "function* uploadFilesStep(inputId, outputId) {\n",
              "  const inputElement = document.getElementById(inputId);\n",
              "  inputElement.disabled = false;\n",
              "\n",
              "  const outputElement = document.getElementById(outputId);\n",
              "  outputElement.innerHTML = '';\n",
              "\n",
              "  const pickedPromise = new Promise((resolve) => {\n",
              "    inputElement.addEventListener('change', (e) => {\n",
              "      resolve(e.target.files);\n",
              "    });\n",
              "  });\n",
              "\n",
              "  const cancel = document.createElement('button');\n",
              "  inputElement.parentElement.appendChild(cancel);\n",
              "  cancel.textContent = 'Cancel upload';\n",
              "  const cancelPromise = new Promise((resolve) => {\n",
              "    cancel.onclick = () => {\n",
              "      resolve(null);\n",
              "    };\n",
              "  });\n",
              "\n",
              "  // Wait for the user to pick the files.\n",
              "  const files = yield {\n",
              "    promise: Promise.race([pickedPromise, cancelPromise]),\n",
              "    response: {\n",
              "      action: 'starting',\n",
              "    }\n",
              "  };\n",
              "\n",
              "  cancel.remove();\n",
              "\n",
              "  // Disable the input element since further picks are not allowed.\n",
              "  inputElement.disabled = true;\n",
              "\n",
              "  if (!files) {\n",
              "    return {\n",
              "      response: {\n",
              "        action: 'complete',\n",
              "      }\n",
              "    };\n",
              "  }\n",
              "\n",
              "  for (const file of files) {\n",
              "    const li = document.createElement('li');\n",
              "    li.append(span(file.name, {fontWeight: 'bold'}));\n",
              "    li.append(span(\n",
              "        `(${file.type || 'n/a'}) - ${file.size} bytes, ` +\n",
              "        `last modified: ${\n",
              "            file.lastModifiedDate ? file.lastModifiedDate.toLocaleDateString() :\n",
              "                                    'n/a'} - `));\n",
              "    const percent = span('0% done');\n",
              "    li.appendChild(percent);\n",
              "\n",
              "    outputElement.appendChild(li);\n",
              "\n",
              "    const fileDataPromise = new Promise((resolve) => {\n",
              "      const reader = new FileReader();\n",
              "      reader.onload = (e) => {\n",
              "        resolve(e.target.result);\n",
              "      };\n",
              "      reader.readAsArrayBuffer(file);\n",
              "    });\n",
              "    // Wait for the data to be ready.\n",
              "    let fileData = yield {\n",
              "      promise: fileDataPromise,\n",
              "      response: {\n",
              "        action: 'continue',\n",
              "      }\n",
              "    };\n",
              "\n",
              "    // Use a chunked sending to avoid message size limits. See b/62115660.\n",
              "    let position = 0;\n",
              "    do {\n",
              "      const length = Math.min(fileData.byteLength - position, MAX_PAYLOAD_SIZE);\n",
              "      const chunk = new Uint8Array(fileData, position, length);\n",
              "      position += length;\n",
              "\n",
              "      const base64 = btoa(String.fromCharCode.apply(null, chunk));\n",
              "      yield {\n",
              "        response: {\n",
              "          action: 'append',\n",
              "          file: file.name,\n",
              "          data: base64,\n",
              "        },\n",
              "      };\n",
              "\n",
              "      let percentDone = fileData.byteLength === 0 ?\n",
              "          100 :\n",
              "          Math.round((position / fileData.byteLength) * 100);\n",
              "      percent.textContent = `${percentDone}% done`;\n",
              "\n",
              "    } while (position < fileData.byteLength);\n",
              "  }\n",
              "\n",
              "  // All done.\n",
              "  yield {\n",
              "    response: {\n",
              "      action: 'complete',\n",
              "    }\n",
              "  };\n",
              "}\n",
              "\n",
              "scope.google = scope.google || {};\n",
              "scope.google.colab = scope.google.colab || {};\n",
              "scope.google.colab._files = {\n",
              "  _uploadFiles,\n",
              "  _uploadFilesContinue,\n",
              "};\n",
              "})(self);\n",
              "</script> "
            ]
          },
          "metadata": {}
        },
        {
          "output_type": "stream",
          "name": "stdout",
          "text": [
            "Saving 60+10 uf 370-440VAC.xlsx to 60+10 uf 370-440VAC (1).xlsx\n"
          ]
        }
      ],
      "source": [
        "uploaded = files.upload()\n",
        "dfs = {}\n",
        "\n",
        "for file_name in uploaded.keys():\n",
        "    xls = pd.ExcelFile(file_name)\n",
        "    sheet_names = xls.sheet_names\n",
        "\n",
        "    for sheet_name in sheet_names:\n",
        "        dfs[sheet_name] = pd.read_excel(file_name, sheet_name=sheet_name)\n",
        "\n",
        "lv1_keyword = dfs['lv1']\n",
        "lv2_keyword = dfs['lv2']\n",
        "negative_keyword = dfs['negative']\n",
        "competitor_asin = dfs['competitor_asin']"
      ]
    },
    {
      "cell_type": "code",
      "execution_count": null,
      "id": "e4b95663",
      "metadata": {
        "id": "e4b95663"
      },
      "outputs": [],
      "source": [
        "#Xây dựng hàm xử lý ký tự đặc biệt\n",
        "def process_text(text):\n",
        "    if isinstance(text, str):\n",
        "        cleaned_text = re.sub(r'[()#@^\",/%*$]', '', text)\n",
        "\n",
        "        cleaned_text = ' '.join(cleaned_text.split())\n",
        "\n",
        "        return cleaned_text\n",
        "    return text"
      ]
    },
    {
      "cell_type": "code",
      "execution_count": null,
      "id": "e7680959",
      "metadata": {
        "id": "e7680959"
      },
      "outputs": [],
      "source": [
        "if not competitor_asin.empty:\n",
        "  competitor_asin = competitor_asin.drop_duplicates()\n",
        "  competitor_asin['SP_ASIN'] = competitor_asin['ASIN'].apply(lambda x: f'asin=\"{x}\"')\n",
        "  competitor_asin['SD_ASIN'] = competitor_asin['ASIN'].apply(lambda x: f'asin=\"{x}\"')"
      ]
    },
    {
      "cell_type": "code",
      "source": [
        "if market == \"US\":\n",
        "  brand_entity = 'ENTITY26ESCR7Q7N1T7'\n",
        "  brand_logo = 'amzn1.assetlibrary.asset1.8845b443b784a439176b85cfa210091c:version_v1'\n",
        "elif market == \"CA\":\n",
        "  brand_entity = 'ENTITY11SCWDPTJLJZ'\n",
        "  brand_logo = 'amzn1.assetlibrary.asset1.7afa6e298852e820a6c37fbd22ce3724:version_v1'"
      ],
      "metadata": {
        "id": "nOxsXKrmy-hQ"
      },
      "id": "nOxsXKrmy-hQ",
      "execution_count": null,
      "outputs": []
    },
    {
      "cell_type": "markdown",
      "id": "3bd12e32",
      "metadata": {
        "id": "3bd12e32"
      },
      "source": [
        "# **TẠO DATA NEGATIVE KEYWORDS CHO CÁC CAMPAIGN** #"
      ]
    },
    {
      "cell_type": "code",
      "execution_count": null,
      "id": "3b4f01f5",
      "metadata": {
        "id": "3b4f01f5"
      },
      "outputs": [],
      "source": [
        "start_date_float = float(start_date)\n",
        "\n",
        "if not lv1_keyword.empty:\n",
        "  lv1_keyword[\"Keyword\"] = lv1_keyword[\"Keyword\"].astype(str)\n",
        "  lv1_keyword['Keyword'] = lv1_keyword['Keyword'].apply(process_text)\n",
        "  lv1_keyword[\"Group\"] = lv1_keyword[\"Group\"].str.lower()\n",
        "  lv1_keyword = lv1_keyword.drop_duplicates()\n",
        "\n",
        "\n",
        "if not lv2_keyword.empty:\n",
        "  lv2_keyword[\"Keyword\"] = lv2_keyword[\"Keyword\"].astype(str)\n",
        "  lv2_keyword['Keyword'] = lv2_keyword['Keyword'].apply(process_text)\n",
        "  lv2_keyword[\"Group\"] = lv2_keyword[\"Group\"].str.lower()\n",
        "  lv2_keyword = lv2_keyword.drop_duplicates()\n",
        "\n",
        "if not negative_keyword.empty:\n",
        "    negative_keyword[\"Keyword\"] = negative_keyword[\"Keyword\"].astype(str)\n",
        "    negative_keyword['Keyword'] = negative_keyword['Keyword'].apply(process_text)\n",
        "    negative_keyword = negative_keyword.drop_duplicates()\n",
        "    negative_keyword['MatchType'] = 'negative phrase'"
      ]
    },
    {
      "cell_type": "markdown",
      "id": "2eb415b0",
      "metadata": {
        "id": "2eb415b0"
      },
      "source": [
        "# **TẠO CẤU TRÚC DỮ LIỆU CHO TỪNG LOẠI CAMPAIGN** #"
      ]
    },
    {
      "cell_type": "markdown",
      "id": "52cbed9c",
      "metadata": {
        "id": "52cbed9c"
      },
      "source": [
        "## *Cấu Trúc Dữ Liệu Của Các Camp SP Và SD* ##"
      ]
    },
    {
      "cell_type": "code",
      "execution_count": null,
      "id": "36407c53",
      "metadata": {
        "id": "36407c53"
      },
      "outputs": [],
      "source": [
        "data = {\n",
        "    'Product': [],\n",
        "    'Entity': [],\n",
        "    'Operation': [],\n",
        "    'Campaign Id': [],\n",
        "    'Ad Group Id': [],\n",
        "    'Portfolio Id': [],\n",
        "    'Ad Id': [],\n",
        "    'Keyword Id': [],\n",
        "    'Product Targeting Id': [],\n",
        "    'Campaign Name': [],\n",
        "    'Ad Group Name': [],\n",
        "    'Start Date': [],\n",
        "    'End Date': [],\n",
        "    'Targeting Type': [],\n",
        "    'State': [],\n",
        "    'Daily Budget': [],\n",
        "    'sku': [],\n",
        "    'asin': [],\n",
        "    'Ad Group Default Bid': [],\n",
        "    'Bid': [],\n",
        "    'Keyword Text': [],\n",
        "    'Match Type': [],\n",
        "    'Bidding Strategy': [],\n",
        "    'Placement': [],\n",
        "    'Percentage': [],\n",
        "    'Product Targeting Expression': []\n",
        "}"
      ]
    },
    {
      "cell_type": "markdown",
      "id": "8c37d523",
      "metadata": {
        "id": "8c37d523"
      },
      "source": [
        "## *Cấu Trúc Dữ Liệu Của Các Camp SB* ##"
      ]
    },
    {
      "cell_type": "code",
      "execution_count": null,
      "id": "cf38b0a9",
      "metadata": {
        "id": "cf38b0a9"
      },
      "outputs": [],
      "source": [
        "data_sb = {\n",
        "    'Product': [],\n",
        "    'Entity': [],\n",
        "    'Operation': [],\n",
        "    'Campaign ID': [],\n",
        "    'Portfolio ID': [],\n",
        "    'Ad Group ID': [],\n",
        "    'Ad ID': [],\n",
        "    'Keyword ID': [],\n",
        "    'Product Targeting ID': [],\n",
        "    'Campaign name': [],\n",
        "    'Ad group name': [],\n",
        "    'Ad name': [],\n",
        "    'Start date': [],\n",
        "    'End date': [],\n",
        "    'State': [],\n",
        "    'Brand Entity ID': [],\n",
        "    'Budget type': [],\n",
        "    'Budget': [],\n",
        "    'Bid optimization': [],\n",
        "    'Product location': [],\n",
        "    'Bid': [],\n",
        "    'Placement': [],\n",
        "    'Percentage': [],\n",
        "    'Keyword text': [],\n",
        "    'Match type': [],\n",
        "    'Native language keyword': [],\n",
        "    'Native language locale': [],\n",
        "    'Product targeting expression': [],\n",
        "    'Landing page URL': [],\n",
        "    'Landing page ASINs': [],\n",
        "    'Landing page type': [],\n",
        "    'Brand name': [],\n",
        "    'Consent to translate': [],\n",
        "    'Brand logo asset ID': [],\n",
        "    'Brand logo crop': [],\n",
        "    'Custom images': [],\n",
        "    'Creative headline': [],\n",
        "    'Creative ASINs': [],\n",
        "    'Video asset IDs': [],\n",
        "    'Sub-pages': []\n",
        "}"
      ]
    },
    {
      "cell_type": "markdown",
      "id": "8ae73f5c",
      "metadata": {
        "id": "8ae73f5c"
      },
      "source": [
        "# **SPONSORED PRODUCTS** #"
      ]
    },
    {
      "cell_type": "markdown",
      "id": "788f0264",
      "metadata": {
        "id": "788f0264"
      },
      "source": [
        "## *Auto Campaign* ##"
      ]
    },
    {
      "cell_type": "code",
      "execution_count": null,
      "id": "3c99d48a",
      "metadata": {
        "id": "3c99d48a"
      },
      "outputs": [],
      "source": [
        "df_auto = pd.DataFrame(data)\n",
        "auto_campaign_name = product_name + \" \" + SKU + \" - Auto\"\n",
        "\n",
        "# Entity = \"Campaign\"\n",
        "auto_campaign_row = {\n",
        "    'Entity': \"Campaign\",\n",
        "    'Campaign Id': auto_campaign_name,\n",
        "    'Portfolio Id': portfolio,\n",
        "    'Campaign Name': auto_campaign_name,\n",
        "    'Start Date': start_date_float,\n",
        "    'Targeting Type': \"Auto\",\n",
        "    'Daily Budget': 10,\n",
        "    'Bidding Strategy': \"Dynamic bids - down only\"}\n",
        "\n",
        "# Entity = \"Ad group\"\n",
        "auto_ad_group_row = {\n",
        "    'Entity': \"Ad group\",\n",
        "    'Campaign Id': auto_campaign_name,\n",
        "    'Ad Group Id': auto_campaign_name,\n",
        "    'Ad Group Name': auto_campaign_name,\n",
        "    'Ad Group Default Bid': 0.5}\n",
        "\n",
        "# Entity = \"Product ad\"\n",
        "auto_product_ad_row = {\n",
        "    'Entity': \"Product ad\",\n",
        "    'Campaign Id': auto_campaign_name,\n",
        "    'Ad Group Id': auto_campaign_name,\n",
        "    'sku': SKU}\n",
        "df_auto = pd.concat([df_auto, pd.DataFrame([auto_campaign_row, auto_ad_group_row, auto_product_ad_row])], ignore_index=True)"
      ]
    },
    {
      "cell_type": "markdown",
      "id": "67974111",
      "metadata": {
        "id": "67974111"
      },
      "source": [
        "## *Research Campaign* ##"
      ]
    },
    {
      "cell_type": "markdown",
      "id": "764895d8",
      "metadata": {
        "id": "764895d8"
      },
      "source": [
        "### Xây dựng bộ keyword chạy quảng cáo của Research Campaign ###"
      ]
    },
    {
      "cell_type": "code",
      "execution_count": null,
      "id": "588f83b0",
      "metadata": {
        "id": "588f83b0"
      },
      "outputs": [],
      "source": [
        "research_keyword = pd.concat([lv1_keyword, lv2_keyword], ignore_index=True)\n",
        "research_keyword['Group'] = research_keyword['Group'].str.lower()\n",
        "research_keyword['MatchType'] = research_keyword['Group'].astype(str).apply(lambda x: 'negative exact' if 'spf' in x else 'broad')\n",
        "research_keyword['bid'] = research_keyword['MatchType'].apply(lambda x: 0.1 if 'broad' in x else '')"
      ]
    },
    {
      "cell_type": "code",
      "source": [
        "research_keyword_condition = research_keyword['Keyword'].astype(str).apply(lambda x: len(x.split())) > 10\n",
        "research_keyword = research_keyword[~research_keyword_condition]"
      ],
      "metadata": {
        "id": "NQhQ3dliORCa"
      },
      "id": "NQhQ3dliORCa",
      "execution_count": null,
      "outputs": []
    },
    {
      "cell_type": "markdown",
      "id": "14d80b72",
      "metadata": {
        "id": "14d80b72"
      },
      "source": [
        "### Xây dựng data quảng cáo của Research Campaign ###"
      ]
    },
    {
      "cell_type": "code",
      "execution_count": null,
      "id": "c77eda83",
      "metadata": {
        "id": "c77eda83"
      },
      "outputs": [],
      "source": [
        "# Tạo DataFrame từ dict\n",
        "df_research = pd.DataFrame(data)\n",
        "\n",
        "#Entity = \"Campaign\"\n",
        "research_campaign_name = product_name + \" \" + SKU + \" - Research\"\n",
        "research_campaign_row = {\n",
        "    'Entity': \"Campaign\",\n",
        "    'Campaign Id': research_campaign_name,\n",
        "    'Portfolio Id': portfolio,\n",
        "    'Campaign Name': research_campaign_name,\n",
        "    'Start Date': start_date_float,\n",
        "    'Targeting Type': \"Manual\",\n",
        "    'Daily Budget': 10,\n",
        "    'Bidding Strategy': \"Dynamic bids - down only\"}\n",
        "\n",
        "#Entity = \"Ad group\"\n",
        "research_ad_group_row = {\n",
        "    'Entity': \"Ad group\",\n",
        "    'Campaign Id': research_campaign_name,\n",
        "    'Ad Group Id': research_campaign_name,\n",
        "    'Ad Group Name': research_campaign_name,\n",
        "    'Ad Group Default Bid': 0.75}\n",
        "\n",
        "#Entity = \"Product ad\"\n",
        "research_product_ad_row = {\n",
        "    'Entity': \"Product ad\",\n",
        "    'Campaign Id': research_campaign_name,\n",
        "    'Ad Group Id': research_campaign_name,\n",
        "    'sku': SKU}\n",
        "\n",
        "df_research = pd.concat([df_research, pd.DataFrame([research_campaign_row, research_ad_group_row, research_product_ad_row])], ignore_index=True)\n",
        "\n",
        "# Entity = \"Negative Keyword\"\n",
        "for index, row in negative_keyword.iterrows():\n",
        "    negative_keyword_text = row['Keyword']\n",
        "    negative_match_type = row['MatchType']\n",
        "    negative_row = {\n",
        "        'Entity': 'Negative keyword',\n",
        "        'Campaign Id': research_campaign_name,\n",
        "        'Keyword Text': negative_keyword_text,\n",
        "        'Match Type': negative_match_type}\n",
        "    df_research = pd.concat([df_research, pd.DataFrame([negative_row])], ignore_index=True)\n",
        "\n",
        "# Entity = \"Keyword\" - Các keyword được chạy quảng cáo và negative trong ad group\n",
        "for index, row in research_keyword.iterrows():\n",
        "    research_keyword_text = row['Keyword']\n",
        "    research_match_type = row['MatchType']\n",
        "    bid = row['bid']\n",
        "    new_research_keyword_row = {\n",
        "        'Entity': 'Keyword',\n",
        "        'Campaign Id': research_campaign_name,\n",
        "        'Ad Group Id': research_campaign_name,\n",
        "        'Keyword Text': research_keyword_text,\n",
        "        'Bid': bid,\n",
        "        'Match Type': research_match_type}\n",
        "    df_research = pd.concat([df_research, pd.DataFrame([new_research_keyword_row])], ignore_index=True)"
      ]
    },
    {
      "cell_type": "markdown",
      "id": "ef624d20",
      "metadata": {
        "id": "ef624d20"
      },
      "source": [
        "## *Performance Campaign* ##"
      ]
    },
    {
      "cell_type": "markdown",
      "id": "ddb23365",
      "metadata": {
        "id": "ddb23365"
      },
      "source": [
        "### Xây dựng bộ keyword chạy quảng cáo của Performance Campaign ###"
      ]
    },
    {
      "cell_type": "code",
      "execution_count": null,
      "id": "2600101d",
      "metadata": {
        "id": "2600101d"
      },
      "outputs": [],
      "source": [
        "performance_keyword = pd.concat([lv1_keyword, lv2_keyword], ignore_index=True)\n",
        "performance_keyword['Group'] = performance_keyword['Group'].str.lower()\n",
        "performance_keyword['MatchType'] = performance_keyword['Group'].astype(str).apply(lambda x: 'exact' if 'spf' in x else '')"
      ]
    },
    {
      "cell_type": "code",
      "source": [
        "performance_keyword_condition = performance_keyword['Keyword'].astype(str).apply(lambda x: len(x.split())) > 10\n",
        "performance_keyword = performance_keyword[~performance_keyword_condition]"
      ],
      "metadata": {
        "id": "28w8xuDvURmD"
      },
      "id": "28w8xuDvURmD",
      "execution_count": null,
      "outputs": []
    },
    {
      "cell_type": "markdown",
      "id": "5b9d8ab1",
      "metadata": {
        "id": "5b9d8ab1"
      },
      "source": [
        "### Xây dựng data quảng cáo của Performance Campaign ###"
      ]
    },
    {
      "cell_type": "code",
      "execution_count": null,
      "id": "e2280e75",
      "metadata": {
        "id": "e2280e75"
      },
      "outputs": [],
      "source": [
        "# Tạo DataFrame từ dict\n",
        "df_performance = pd.DataFrame(data)\n",
        "\n",
        "#Entity = \"Campaign\"\n",
        "performance_campaign_name = product_name + \" \" + SKU + \" - Performance\"\n",
        "performance_campaign_row = {\n",
        "    'Entity': \"Campaign\",\n",
        "    'Campaign Id': performance_campaign_name,\n",
        "    'Portfolio Id': portfolio,\n",
        "    'Campaign Name': performance_campaign_name,\n",
        "    'Start Date': start_date_float,\n",
        "    'Targeting Type': \"Manual\",\n",
        "    'Daily Budget': 10,\n",
        "    'Bidding Strategy': \"Dynamic bids - down only\"}\n",
        "\n",
        "#Entity = \"Ad group\"\n",
        "performance_ad_group_row = {\n",
        "    'Entity': \"Ad group\",\n",
        "    'Campaign Id': performance_campaign_name,\n",
        "    'Ad Group Id': performance_campaign_name,\n",
        "    'Ad Group Name': performance_campaign_name,\n",
        "    'Ad Group Default Bid': 0.75}\n",
        "\n",
        "#Entity = \"Product ad\"\n",
        "performance_product_ad_row = {\n",
        "    'Entity': \"Product ad\",\n",
        "    'Campaign Id': performance_campaign_name,\n",
        "    'Ad Group Id': performance_campaign_name,\n",
        "    'sku': SKU}\n",
        "\n",
        "df_performance = pd.concat([df_performance, pd.DataFrame([performance_campaign_row, performance_ad_group_row, performance_product_ad_row])], ignore_index=True)\n",
        "\n",
        "#Entiry = 'Keyword'\n",
        "for index, row in performance_keyword.iterrows():\n",
        "    if row['MatchType'] == 'exact':\n",
        "        performance_keyword_text = row['Keyword']\n",
        "        performance_match_type = row['MatchType']\n",
        "        new_performance_keyword_row = {\n",
        "            'Entity': 'Keyword',\n",
        "            'Campaign Id': performance_campaign_name,\n",
        "            'Ad Group Id': performance_campaign_name,\n",
        "            'Keyword Text': performance_keyword_text,\n",
        "            'Bid': 0.5,\n",
        "            'Match Type': performance_match_type}\n",
        "\n",
        "        df_performance = pd.concat([df_performance, pd.DataFrame([new_performance_keyword_row])], ignore_index=True)"
      ]
    },
    {
      "cell_type": "markdown",
      "id": "0597f60f",
      "metadata": {
        "id": "0597f60f"
      },
      "source": [
        "## *SP Campaign* ##"
      ]
    },
    {
      "cell_type": "markdown",
      "id": "7bd9d2d8",
      "metadata": {
        "id": "7bd9d2d8"
      },
      "source": [
        "### Xây dựng bộ keyword chạy quảng cáo của SP Campaign ###"
      ]
    },
    {
      "cell_type": "code",
      "execution_count": null,
      "id": "9d65ef2e",
      "metadata": {
        "id": "9d65ef2e"
      },
      "outputs": [],
      "source": [
        "def process_dataframes(df):\n",
        "    while not df.empty:\n",
        "        largest_group = df['Group'].iloc[-1]\n",
        "        data = df[df['Group'] == largest_group].copy()\n",
        "        df = df[df['Group'] != largest_group]\n",
        "\n",
        "        if 'data2' in locals():\n",
        "            data = pd.concat([data, data2], ignore_index=True)\n",
        "\n",
        "        data['Ad Group'] = data['Group'].iloc[0]\n",
        "        data['MatchType'] = 'phrase'\n",
        "        data.loc[data['Group'] != data['Ad Group'], 'MatchType'] = 'negative exact'\n",
        "\n",
        "        data2 = data[['Keyword', 'Group']].copy()\n",
        "        yield data\n",
        "\n",
        "# LV1 Keyword Processing\n",
        "lv1_keyword_all_dataframes = list(process_dataframes(lv1_keyword))\n",
        "lv1_final_dataframe = pd.concat(lv1_keyword_all_dataframes, ignore_index=True) if lv1_keyword_all_dataframes else None\n",
        "\n",
        "# LV2 Keyword Processing\n",
        "lv2_keyword_all_dataframes = list(process_dataframes(lv2_keyword))\n",
        "lv2_final_dataframe = pd.concat(lv2_keyword_all_dataframes, ignore_index=True) if lv2_keyword_all_dataframes else None\n",
        "\n",
        "if lv1_final_dataframe is not None:\n",
        "    sp_keyword = pd.concat([lv1_final_dataframe, lv2_final_dataframe], ignore_index=True)\n",
        "else:\n",
        "    sp_keyword = lv2_final_dataframe\n",
        "sp_keyword['bid'] = sp_keyword['MatchType'].apply(lambda x: 0.5 if 'phrase' in x else '')"
      ]
    },
    {
      "cell_type": "code",
      "source": [
        "sp_keyword_condition = sp_keyword['Keyword'].astype(str).apply(lambda x: len(x.split())) > 10\n",
        "sp_keyword = sp_keyword[~sp_keyword_condition]"
      ],
      "metadata": {
        "id": "e24i-gu8SX4X"
      },
      "id": "e24i-gu8SX4X",
      "execution_count": null,
      "outputs": []
    },
    {
      "cell_type": "markdown",
      "id": "029f42ad",
      "metadata": {
        "id": "029f42ad"
      },
      "source": [
        "### Xây dựng data quảng cáo của SP Campaign ###"
      ]
    },
    {
      "cell_type": "code",
      "execution_count": null,
      "id": "926c3b04",
      "metadata": {
        "id": "926c3b04"
      },
      "outputs": [],
      "source": [
        "# Tạo DataFrame từ dict\n",
        "df_sp = pd.DataFrame(data)\n",
        "\n",
        "#Entity = \"Campaign\"\n",
        "sp_campaign_name = product_name + \" \" + SKU + \" SP\"\n",
        "sp_campaign_row = {\n",
        "    'Entity': \"Campaign\",\n",
        "    'Campaign Id': sp_campaign_name,\n",
        "    'Portfolio Id': portfolio,\n",
        "    'Campaign Name': sp_campaign_name,\n",
        "    'Start Date': start_date_float,\n",
        "    'Targeting Type': \"Manual\",\n",
        "    'Daily Budget': 10,\n",
        "    'Bidding Strategy': \"Dynamic bids - down only\"}\n",
        "\n",
        "# Entity = \"Bidding adjustment\"\n",
        "sp_bid_row = {\n",
        "    'Entity': \"Bidding adjustment\",\n",
        "    'Campaign Id': sp_campaign_name,\n",
        "    'Placement' : 'placement top',\n",
        "    'Percentage': 50}\n",
        "\n",
        "# Tạo DataFrame mới từ các dòng sp_campaign_row và sp_bid_row\n",
        "df_sp = pd.concat([df_sp, pd.DataFrame([sp_campaign_row, sp_bid_row])], ignore_index=True)\n",
        "\n",
        "#Entity = \"Ad group\"\n",
        "distinct_ad_groups = sp_keyword['Ad Group'].unique()\n",
        "\n",
        "# Tạo DataFrame mới từ các dòng ad_group_row\n",
        "ad_group_rows = []\n",
        "for ad_group in distinct_ad_groups:\n",
        "    ad_group_row = {\n",
        "        'Entity': 'Ad group',\n",
        "        'Campaign Id': sp_campaign_name,\n",
        "        'Ad Group Id': ad_group,\n",
        "        'Ad Group Name': ad_group,\n",
        "        'Ad Group Default Bid': 0.75}\n",
        "    ad_group_rows.append(ad_group_row)\n",
        "\n",
        "df_sp = pd.concat([df_sp, pd.DataFrame(ad_group_rows)], ignore_index=True)\n",
        "\n",
        "#Entity = \"Product ad\"\n",
        "product_ad_rows = []\n",
        "for ad_group in distinct_ad_groups:\n",
        "    prorduct_ad_row = {\n",
        "        'Entity': 'Product ad',\n",
        "        'Campaign Id': sp_campaign_name,\n",
        "        'Ad Group Id': ad_group,\n",
        "        'sku': SKU}\n",
        "    product_ad_rows.append(prorduct_ad_row)\n",
        "\n",
        "df_sp = pd.concat([df_sp, pd.DataFrame(product_ad_rows)], ignore_index=True)\n",
        "\n",
        "# Entity = \"Negative Keyword\"\n",
        "for index, row in negative_keyword.iterrows():\n",
        "    negative_keyword_text = row['Keyword']\n",
        "    negative_match_type = row['MatchType']\n",
        "    negative_row = {\n",
        "        'Entity': 'Negative keyword',\n",
        "        'Campaign Id': sp_campaign_name,\n",
        "        'Keyword Text': negative_keyword_text,\n",
        "        'Match Type': negative_match_type}\n",
        "    df_sp = pd.concat([df_sp, pd.DataFrame([negative_row])], ignore_index=True)\n",
        "\n",
        "# Entity = \"Keyword\"\n",
        "for index, row in sp_keyword.iterrows():\n",
        "    sp_keyword_text = row['Keyword']\n",
        "    sp_match_type = row['MatchType']\n",
        "    sp_ad_group = row['Ad Group']\n",
        "    bid = row['bid']\n",
        "    new_sp_keyword_row = {\n",
        "        'Entity': 'Keyword',\n",
        "        'Campaign Id': sp_campaign_name,\n",
        "        'Ad Group Id': sp_ad_group,\n",
        "        'Keyword Text': sp_keyword_text,\n",
        "        'Bid': bid,\n",
        "        'Match Type': sp_match_type}\n",
        "    df_sp = pd.concat([df_sp, pd.DataFrame([new_sp_keyword_row])], ignore_index=True)\n",
        "\n",
        "df_sp['Keyword Text'] = df_sp['Keyword Text'].astype(str)\n",
        "negative_keyword_condition = (df_sp['Entity'] == 'Keyword') & (df_sp['Match Type'] == 'negative exact') & (df_sp['Keyword Text'].apply(lambda x: len(x.split()) > 4))\n",
        "index_to_drop = df_sp.loc[negative_keyword_condition].index\n",
        "df_sp.drop(index_to_drop, inplace=True)"
      ]
    },
    {
      "cell_type": "markdown",
      "id": "87d400cc",
      "metadata": {
        "id": "87d400cc"
      },
      "source": [
        "# *SP PT Campaign* #"
      ]
    },
    {
      "cell_type": "markdown",
      "id": "c68454b4",
      "metadata": {
        "id": "c68454b4"
      },
      "source": [
        "### Xây dựng data quảng cáo của SP PT Campaign ###"
      ]
    },
    {
      "cell_type": "code",
      "execution_count": null,
      "id": "783b6f6d",
      "metadata": {
        "id": "783b6f6d"
      },
      "outputs": [],
      "source": [
        "df_sp_pt = pd.DataFrame(data)\n",
        "sp_pt_campaign_name = product_name + \" \" + SKU + \" PT\"\n",
        "\n",
        "if not competitor_asin.empty:\n",
        "  #Entity = \"Campaign\"\n",
        "  sp_pt_campaign_row = {\n",
        "      'Entity': \"Campaign\",\n",
        "      'Campaign Id': sp_pt_campaign_name,\n",
        "      'Portfolio Id': portfolio,\n",
        "      'Campaign Name': sp_pt_campaign_name,\n",
        "      'Start Date': start_date_float,\n",
        "      'Targeting Type': \"Manual\",\n",
        "      'Daily Budget': 10,\n",
        "      'Bidding Strategy': \"Dynamic bids - down only\"}\n",
        "\n",
        "  # Entity = \"Bidding adjustment\"\n",
        "  sp_pt_bid_row = {\n",
        "    'Entity': \"Bidding adjustment\",\n",
        "    'Campaign Id': sp_pt_campaign_name,\n",
        "    'Placement' : 'placement product page',\n",
        "    'Percentage': 50}\n",
        "\n",
        "  #Entity = \"Ad group\"\n",
        "  sp_pt_ad_group_row = {\n",
        "      'Entity': \"Ad group\",\n",
        "      'Campaign Id': sp_pt_campaign_name,\n",
        "      'Ad Group Id': sp_pt_campaign_name,\n",
        "      'Ad Group Name': sp_pt_campaign_name,\n",
        "      'Ad Group Default Bid': 0.75}\n",
        "\n",
        "  #Entity = \"Product ad\"\n",
        "  sp_pt_product_ad_row = {\n",
        "      'Entity': \"Product ad\",\n",
        "      'Campaign Id': sp_pt_campaign_name,\n",
        "      'Ad Group Id': sp_pt_campaign_name,\n",
        "      'sku': SKU}\n",
        "\n",
        "  df_sp_pt = pd.concat([df_sp_pt, pd.DataFrame([sp_pt_campaign_row, sp_pt_bid_row, sp_pt_ad_group_row, sp_pt_product_ad_row])], ignore_index=True)\n",
        "\n",
        "  #Entiry = 'Product targeting'\n",
        "  for index, row in competitor_asin.iterrows():\n",
        "      sp_pt_asin_row = row['SP_ASIN']\n",
        "      sp_pt_asin_rows = {\n",
        "          'Entity': 'Product targeting',\n",
        "          'Campaign Id': sp_pt_campaign_name,\n",
        "          'Ad Group Id': sp_pt_campaign_name,\n",
        "          'Bid': 0.5,\n",
        "          'Product Targeting Expression': sp_pt_asin_row}\n",
        "      df_sp_pt = pd.concat([df_sp_pt, pd.DataFrame([sp_pt_asin_rows])], ignore_index=True)"
      ]
    },
    {
      "cell_type": "markdown",
      "id": "fadcbc2e",
      "metadata": {
        "id": "fadcbc2e"
      },
      "source": [
        "## *Gộp Dữ Liệu Các SP Campaign* ##"
      ]
    },
    {
      "cell_type": "code",
      "execution_count": null,
      "id": "358fba1f",
      "metadata": {
        "id": "358fba1f"
      },
      "outputs": [],
      "source": [
        "sp_final_data = pd.concat([df_auto, df_research, df_performance, df_sp, df_sp_pt], ignore_index=True)\n",
        "sp_final_data.loc[sp_final_data['Match Type'] == 'negative exact', 'Entity'] = 'Negative keyword'\n",
        "sp_final_data.loc[sp_final_data['Match Type'] == 'negative phrase', 'Entity'] = 'Campaign negative keyword'\n",
        "sp_final_data['Product'].fillna('Sponsored Products', inplace=True)\n",
        "sp_final_data['Operation'].fillna('Create', inplace=True)\n",
        "sp_final_data['State'].fillna('Enabled', inplace=True)\n",
        "sp_final_data = sp_final_data.drop_duplicates()"
      ]
    },
    {
      "cell_type": "markdown",
      "id": "37ff6746",
      "metadata": {
        "id": "37ff6746"
      },
      "source": [
        "# **SPONSORED BRANDS** #"
      ]
    },
    {
      "cell_type": "markdown",
      "id": "317a127a",
      "metadata": {
        "id": "317a127a"
      },
      "source": [
        "## *Format Link Ảnh và Link Video* ##"
      ]
    },
    {
      "cell_type": "code",
      "execution_count": null,
      "id": "52b2b33a",
      "metadata": {
        "id": "52b2b33a"
      },
      "outputs": [],
      "source": [
        "def creative_process(asset_type):\n",
        "    start_index = asset_type.find(\"preview/\") + len(\"preview/\")\n",
        "    end_index = asset_type.find(\"?entityId\")\n",
        "    desired_string = asset_type[start_index:end_index].replace(\"/version\", \":version\")\n",
        "    return desired_string\n",
        "\n",
        "custom_image = creative_process(image)\n",
        "custom_video = creative_process(video)"
      ]
    },
    {
      "cell_type": "markdown",
      "source": [
        "## *SB Campaign* ##"
      ],
      "metadata": {
        "id": "XLgrvH8VkjbI"
      },
      "id": "XLgrvH8VkjbI"
    },
    {
      "cell_type": "markdown",
      "id": "76426990",
      "metadata": {
        "id": "76426990"
      },
      "source": [
        "### Xây dựng bộ keyword chạy quảng cáo của SB Campaign ###"
      ]
    },
    {
      "cell_type": "code",
      "execution_count": null,
      "id": "6a741c3e",
      "metadata": {
        "id": "6a741c3e"
      },
      "outputs": [],
      "source": [
        "sb_phrase_keyword = pd.concat([lv1_keyword, lv2_keyword], ignore_index=True)\n",
        "sb_phrase_keyword['MatchType'] = 'phrase'"
      ]
    },
    {
      "cell_type": "code",
      "source": [
        "sb_phrase_keyword_condition = sb_phrase_keyword['Keyword'].astype(str).apply(lambda x: len(x.split())) > 10\n",
        "sb_phrase_keyword = sb_phrase_keyword[~sb_phrase_keyword_condition]"
      ],
      "metadata": {
        "id": "Pyp9N5gfSwPb"
      },
      "id": "Pyp9N5gfSwPb",
      "execution_count": null,
      "outputs": []
    },
    {
      "cell_type": "markdown",
      "source": [
        "### Xây dựng data quảng cáo của SB Campaign ###"
      ],
      "metadata": {
        "id": "_ZPmHD5HkojO"
      },
      "id": "_ZPmHD5HkojO"
    },
    {
      "cell_type": "code",
      "source": [
        "df_camp_sb = pd.DataFrame(data_sb)\n",
        "sb_campaign_name = product_name + \" \" + SKU + \" SB\"\n",
        "\n",
        "# Entity = \"Campaign\"\n",
        "sb_campaign_row = {\n",
        "    'Entity': \"Campaign\",\n",
        "    'Campaign ID': sb_campaign_name,\n",
        "    'Portfolio ID': portfolio,\n",
        "    'Campaign name': sb_campaign_name,\n",
        "    'Start date': start_date_float,\n",
        "    'Brand Entity ID': brand_entity,\n",
        "    'Budget type': 'Daily',\n",
        "    'Budget': 10,\n",
        "    'Bid optimization': \"TRUE\"}\n",
        "\n",
        "# Entity = \"Ad group\"\n",
        "sb_ad_group_row = {\n",
        "    'Entity': \"Ad group\",\n",
        "    'Campaign ID': sb_campaign_name,\n",
        "    'Ad Group ID': sb_campaign_name,\n",
        "    'Ad group name': sb_campaign_name}\n",
        "\n",
        "# Entity = \"Product collection ad\"\n",
        "sb_collection_ad_row = {\n",
        "    'Entity': \"Product collection ad\",\n",
        "    'Campaign ID': sb_campaign_name,\n",
        "    'Ad Group ID': sb_campaign_name,\n",
        "    'Ad name': sb_campaign_name,\n",
        "    'Landing page ASINs': target_asins,\n",
        "    'Landing page type': 'Product list',\n",
        "    'Brand name': 'Canamax',\n",
        "    'Brand logo asset ID': brand_logo,\n",
        "    'Custom images': '[{{\"assetId\":\"{}\"}}]'.format(custom_image),\n",
        "    'Creative headline': 'On Time, Every Time',\n",
        "    'Creative ASINs': target_asins[:34]}\n",
        "\n",
        "df_camp_sb = pd.concat([df_camp_sb, pd.DataFrame([sb_campaign_row, sb_ad_group_row, sb_collection_ad_row])], ignore_index=True)\n",
        "\n",
        "# Entity = \"Negative keyword\"\n",
        "for index, row in negative_keyword.iterrows():\n",
        "    negative_keyword_text = row['Keyword']\n",
        "    negative_match_type = row['MatchType']\n",
        "    negative_row = {\n",
        "        'Entity': 'Negative keyword',\n",
        "        'Campaign ID': sb_campaign_name,\n",
        "        'Ad Group ID': sb_campaign_name,\n",
        "        'Keyword text': negative_keyword_text,\n",
        "        'Match type': negative_match_type}\n",
        "    df_camp_sb = pd.concat([df_camp_sb, pd.DataFrame([negative_row])], ignore_index=True)\n",
        "\n",
        "# Entity = \"Keyword\"\n",
        "for index, row in sb_phrase_keyword.iterrows():\n",
        "    sb_keyword_text = row['Keyword']\n",
        "    sb_match_type = row['MatchType']\n",
        "    sb_keyword_row = {\n",
        "        'Entity': 'Keyword',\n",
        "        'Campaign ID': sb_campaign_name,\n",
        "        'Ad Group ID': sb_campaign_name,\n",
        "        'Keyword text': sb_keyword_text,\n",
        "        'Bid': 0.5,\n",
        "        'Match type': sb_match_type}\n",
        "    df_camp_sb = pd.concat([df_camp_sb, pd.DataFrame([sb_keyword_row])], ignore_index=True)"
      ],
      "metadata": {
        "id": "PKorzxu4kp4n"
      },
      "id": "PKorzxu4kp4n",
      "execution_count": null,
      "outputs": []
    },
    {
      "cell_type": "markdown",
      "id": "ead9518e",
      "metadata": {
        "id": "ead9518e"
      },
      "source": [
        "## *Video Phrase Campaign* ##"
      ]
    },
    {
      "cell_type": "markdown",
      "id": "9cf2b9ec",
      "metadata": {
        "id": "9cf2b9ec"
      },
      "source": [
        "### Xây dựng data quảng cáo của Video Phrase Campaign ###"
      ]
    },
    {
      "cell_type": "code",
      "execution_count": null,
      "id": "ad40f571",
      "metadata": {
        "id": "ad40f571"
      },
      "outputs": [],
      "source": [
        "df_video_phrase = pd.DataFrame(data_sb)\n",
        "video_phrase_name = product_name + \" \" + SKU + \" Video Ads Phrase\"\n",
        "\n",
        "# Entity = \"Campaign\"\n",
        "video_phrase_campaign_row = {\n",
        "    'Entity': \"Campaign\",\n",
        "    'Campaign ID': video_phrase_name,\n",
        "    'Portfolio ID': portfolio,\n",
        "    'Campaign name': video_phrase_name,\n",
        "    'Start date': start_date_float,\n",
        "    'Brand Entity ID': brand_entity,\n",
        "    'Budget type': 'Daily',\n",
        "    'Budget': 10,\n",
        "    'Bid optimization': \"TRUE\"}\n",
        "\n",
        "# Entity = \"Ad group\"\n",
        "video_phrase_ad_group_row = {\n",
        "    'Entity': \"Ad group\",\n",
        "    'Campaign ID': video_phrase_name,\n",
        "    'Ad Group ID': video_phrase_name,\n",
        "    'Ad group name': video_phrase_name}\n",
        "\n",
        "# Entity = \"Video ad\"\n",
        "video_phrase_ad_row = {\n",
        "    'Entity': \"Video ad\",\n",
        "    'Campaign ID': video_phrase_name,\n",
        "    'Ad Group ID': video_phrase_name,\n",
        "    'Ad name': video_phrase_name,\n",
        "    'Landing page URL': 'https://www.amazon.com/dp/' + asin,\n",
        "    'Landing page type': 'Detail Page',\n",
        "    'Brand name': 'Canamax',\n",
        "    'Brand logo asset ID': brand_logo,\n",
        "    'Consent to translate': 'False',\n",
        "    'Video asset IDs': custom_video,\n",
        "    'Creative ASINs': asin}\n",
        "\n",
        "df_video_phrase = pd.concat([df_video_phrase, pd.DataFrame([video_phrase_campaign_row,\n",
        "                                                            video_phrase_ad_group_row,\n",
        "                                                            video_phrase_ad_row])], ignore_index=True)\n",
        "\n",
        "# Entity = \"Negative Keyword\"\n",
        "for index, row in negative_keyword.iterrows():\n",
        "    negative_keyword_text = row['Keyword']\n",
        "    negative_match_type = row['MatchType']\n",
        "    negative_row = {\n",
        "        'Entity': 'Negative keyword',\n",
        "        'Campaign ID': video_phrase_name,\n",
        "        'Ad Group ID': video_phrase_name,\n",
        "        'Keyword text': negative_keyword_text,\n",
        "        'Match type': negative_match_type}\n",
        "    df_video_phrase = pd.concat([df_video_phrase, pd.DataFrame([negative_row])], ignore_index=True)\n",
        "\n",
        "# Entity = \"Keyword\"\n",
        "for index, row in sb_phrase_keyword.iterrows():\n",
        "    sb_phrase_keyword_text = row['Keyword']\n",
        "    sb_phrase_match_type = row['MatchType']\n",
        "    sb_phrase_keyword_row = {\n",
        "        'Entity': 'Keyword',\n",
        "        'Campaign ID': video_phrase_name,\n",
        "        'Ad Group ID': video_phrase_name,\n",
        "        'Keyword text': sb_phrase_keyword_text,\n",
        "        'Bid': 0.25,\n",
        "        'Match type': sb_phrase_match_type}\n",
        "    df_video_phrase = pd.concat([df_video_phrase, pd.DataFrame([sb_phrase_keyword_row])], ignore_index=True)"
      ]
    },
    {
      "cell_type": "markdown",
      "id": "a9652fa5",
      "metadata": {
        "id": "a9652fa5"
      },
      "source": [
        "## *Video Broad Campaign* ##"
      ]
    },
    {
      "cell_type": "markdown",
      "id": "9031aca0",
      "metadata": {
        "id": "9031aca0"
      },
      "source": [
        "### Xây dựng bộ keyword chạy quảng cáo của Video Broad Campaign ###"
      ]
    },
    {
      "cell_type": "code",
      "execution_count": null,
      "id": "671be6d7",
      "metadata": {
        "id": "671be6d7"
      },
      "outputs": [],
      "source": [
        "sb_broad_keyword = pd.concat([lv1_keyword, lv2_keyword], ignore_index=True)\n",
        "sb_broad_keyword['MatchType'] = 'broad'"
      ]
    },
    {
      "cell_type": "code",
      "source": [
        "sb_broad_keyword_condition = sb_broad_keyword['Keyword'].astype(str).apply(lambda x: len(x.split())) > 10\n",
        "sb_broad_keyword = sb_broad_keyword[~sb_broad_keyword_condition]"
      ],
      "metadata": {
        "id": "Hl1ZeIIPS2jl"
      },
      "id": "Hl1ZeIIPS2jl",
      "execution_count": null,
      "outputs": []
    },
    {
      "cell_type": "markdown",
      "id": "e72ef8ea",
      "metadata": {
        "id": "e72ef8ea"
      },
      "source": [
        "### Xây dựng data quảng cáo của Video Broad Campaign ###"
      ]
    },
    {
      "cell_type": "code",
      "execution_count": null,
      "id": "fad11238",
      "metadata": {
        "id": "fad11238"
      },
      "outputs": [],
      "source": [
        "df_video_broad = pd.DataFrame(data_sb)\n",
        "video_broad_name = product_name + \" \" + SKU + \" Video Ads Broad\"\n",
        "\n",
        "# Entity = \"Campaign\"\n",
        "video_broad_campaign_row = {\n",
        "    'Entity': \"Campaign\",\n",
        "    'Campaign ID': video_broad_name,\n",
        "    'Portfolio ID': portfolio,\n",
        "    'Campaign name': video_broad_name,\n",
        "    'Start date': start_date_float,\n",
        "    'Brand Entity ID': brand_entity,\n",
        "    'Budget type': 'Daily',\n",
        "    'Budget': 10,\n",
        "    'Bid optimization': \"TRUE\"}\n",
        "\n",
        "# Entity = \"Ad group\"\n",
        "video_broad_ad_group_row = {\n",
        "    'Entity': \"Ad group\",\n",
        "    'Campaign ID': video_broad_name,\n",
        "    'Ad Group ID': video_broad_name,\n",
        "    'Ad group name': video_broad_name}\n",
        "\n",
        "# Entity = \"Video ad\"\n",
        "video_broad_ad_row = {\n",
        "    'Entity': \"Video ad\",\n",
        "    'Campaign ID': video_broad_name,\n",
        "    'Ad Group ID': video_broad_name,\n",
        "    'Ad name': video_broad_name,\n",
        "    'Landing page URL': 'https://www.amazon.com/dp/' + asin,\n",
        "    'Landing page type': 'Detail Page',\n",
        "    'Brand name': 'Canamax',\n",
        "    'Brand logo asset ID': brand_logo,\n",
        "    'Consent to translate': 'False',\n",
        "    'Video asset IDs': custom_video,\n",
        "    'Creative ASINs': asin}\n",
        "\n",
        "df_video_broad = pd.concat([df_video_broad, pd.DataFrame([video_broad_campaign_row,\n",
        "                                                            video_broad_ad_group_row,\n",
        "                                                            video_broad_ad_row])], ignore_index=True)\n",
        "\n",
        "# Entity = \"Negative Keyword\"\n",
        "for index, row in negative_keyword.iterrows():\n",
        "    negative_keyword_text = row['Keyword']\n",
        "    negative_match_type = row['MatchType']\n",
        "    negative_row = {\n",
        "        'Entity': 'Negative keyword',\n",
        "        'Campaign ID': video_broad_name,\n",
        "        'Ad Group ID': video_broad_name,\n",
        "        'Keyword text': negative_keyword_text,\n",
        "        'Match type': negative_match_type}\n",
        "    df_video_broad = pd.concat([df_video_broad, pd.DataFrame([negative_row])], ignore_index=True)\n",
        "\n",
        "sb_broad_video_negative = sb_phrase_keyword[sb_phrase_keyword['Keyword'].apply(lambda x: len(x.split()) <= 4)]\n",
        "\n",
        "for index, row in sb_broad_video_negative.iterrows():\n",
        "        sb_negative_exact = row['Keyword']\n",
        "        sb_negative_exact_row = {\n",
        "            'Entity': 'Negative keyword',\n",
        "            'Campaign ID': video_broad_name,\n",
        "            'Ad Group ID': video_broad_name,\n",
        "            'Keyword text': sb_negative_exact,\n",
        "            'Match type': 'Negative phrase'}\n",
        "        df_video_broad = pd.concat([df_video_broad, pd.DataFrame([sb_negative_exact_row])], ignore_index=True)\n",
        "\n",
        "# Entity = \"Keyword\"\n",
        "for index, row in sb_broad_keyword.iterrows():\n",
        "    sb_broad_keyword_text = row['Keyword']\n",
        "    sb_broad_match_type = row['MatchType']\n",
        "    sb_broad_keyword_row = {\n",
        "        'Entity': 'Keyword',\n",
        "        'Campaign ID': video_broad_name,\n",
        "        'Ad Group ID': video_broad_name,\n",
        "        'Keyword text': sb_broad_keyword_text,\n",
        "        'Bid': 0.25,\n",
        "        'Match type': sb_broad_match_type}\n",
        "    df_video_broad = pd.concat([df_video_broad, pd.DataFrame([sb_broad_keyword_row])], ignore_index=True)"
      ]
    },
    {
      "cell_type": "markdown",
      "source": [
        "## *Video PT Campaign* ##"
      ],
      "metadata": {
        "id": "vUiIj9gDV1kx"
      },
      "id": "vUiIj9gDV1kx"
    },
    {
      "cell_type": "code",
      "source": [
        "df_video_pt = pd.DataFrame(data_sb)\n",
        "video_pt_name = product_name + \" \" + SKU + \" Video Ads PT\"\n",
        "\n",
        "# Entity = \"Campaign\"\n",
        "video_pt_campaign_row = {\n",
        "    'Entity': \"Campaign\",\n",
        "    'Campaign ID': video_pt_name,\n",
        "    'Portfolio ID': portfolio,\n",
        "    'Campaign name': video_pt_name,\n",
        "    'Start date': start_date_float,\n",
        "    'Brand Entity ID': brand_entity,\n",
        "    'Budget type': 'Daily',\n",
        "    'Budget': 10,\n",
        "    'Bid optimization': \"TRUE\"}\n",
        "\n",
        "# Entity = \"Ad group\"\n",
        "video_pt_ad_group_row = {\n",
        "    'Entity': \"Ad group\",\n",
        "    'Campaign ID': video_pt_name,\n",
        "    'Ad Group ID': video_pt_name,\n",
        "    'Ad group name': video_pt_name}\n",
        "\n",
        "# Entity = \"Video ad\"\n",
        "video_pt_ad_row = {\n",
        "    'Entity': \"Video ad\",\n",
        "    'Campaign ID': video_pt_name,\n",
        "    'Ad Group ID': video_pt_name,\n",
        "    'Ad name': video_pt_name,\n",
        "    'Landing page URL': 'https://www.amazon.com/dp/' + asin,\n",
        "    'Landing page type': 'Detail Page',\n",
        "    'Brand name': 'Canamax',\n",
        "    'Brand logo asset ID': brand_logo,\n",
        "    'Consent to translate': 'False',\n",
        "    'Video asset IDs': custom_video,\n",
        "    'Creative ASINs': asin}\n",
        "\n",
        "df_video_pt = pd.concat([df_video_pt, pd.DataFrame([video_pt_campaign_row, video_pt_ad_group_row, video_pt_ad_row])], ignore_index=True)\n",
        "\n",
        "#Entiry = 'Product targeting'\n",
        "for index, row in competitor_asin.iterrows():\n",
        "  video_pt_asin_row = row['SD_ASIN']\n",
        "  video_pt_rows = {\n",
        "      'Entity': 'Product targeting',\n",
        "      'Campaign ID': video_pt_name,\n",
        "      'Ad Group ID': video_pt_name,\n",
        "      'Bid': 0.3,\n",
        "      'Product targeting expression': video_pt_asin_row}\n",
        "  df_video_pt = pd.concat([df_video_pt, pd.DataFrame([video_pt_rows])], ignore_index=True)"
      ],
      "metadata": {
        "id": "eHRaJINEWC0x"
      },
      "id": "eHRaJINEWC0x",
      "execution_count": null,
      "outputs": []
    },
    {
      "cell_type": "markdown",
      "id": "d8575a41",
      "metadata": {
        "id": "d8575a41"
      },
      "source": [
        "## *Gộp Dữ Liệu Các SB Campaign* ##"
      ]
    },
    {
      "cell_type": "code",
      "execution_count": null,
      "id": "599f3684",
      "metadata": {
        "id": "599f3684"
      },
      "outputs": [],
      "source": [
        "sb_final_data = pd.concat([df_camp_sb, df_video_phrase, df_video_broad, df_video_pt], ignore_index=True)\n",
        "sb_final_data['Product'].fillna('Sponsored Brands', inplace=True)\n",
        "sb_final_data['Operation'].fillna('Create', inplace=True)\n",
        "sb_final_data['State'].fillna('Enabled', inplace=True)\n",
        "sb_final_data = sb_final_data.drop_duplicates()"
      ]
    },
    {
      "cell_type": "markdown",
      "id": "93e222c4",
      "metadata": {
        "id": "93e222c4"
      },
      "source": [
        "# **SPONSORED DISPLAY** #"
      ]
    },
    {
      "cell_type": "markdown",
      "id": "834dab1f",
      "metadata": {
        "id": "834dab1f"
      },
      "source": [
        "## *SD PT Campaign* ##"
      ]
    },
    {
      "cell_type": "markdown",
      "source": [
        "### Xây dựng data quảng cáo của SD PT Campaign ###"
      ],
      "metadata": {
        "id": "ynBDn2F9vAYO"
      },
      "id": "ynBDn2F9vAYO"
    },
    {
      "cell_type": "code",
      "execution_count": null,
      "id": "324970fd",
      "metadata": {
        "id": "324970fd"
      },
      "outputs": [],
      "source": [
        "df_sd = pd.DataFrame(data)\n",
        "sd_campaign_name = product_name + \" \" + SKU + \" SD PT\"\n",
        "\n",
        "if not competitor_asin.empty:\n",
        "  #Entity = \"Campaign\"\n",
        "  sd_campaign_row = {\n",
        "      'Entity': \"Campaign\",\n",
        "      'Campaign Id': sd_campaign_name,\n",
        "      'Portfolio Id': portfolio,\n",
        "      'Campaign Name': sd_campaign_name,\n",
        "      'Start Date': start_date_float,\n",
        "      'Tactic': 'T00020',\n",
        "      'Budget Type': 'Daily',\n",
        "      'Budget': 10,\n",
        "      'Cost Type': 'CPC'}\n",
        "\n",
        "  # Entity = \"Ad group\"\n",
        "  sd_ad_group_row = {\n",
        "      'Entity': \"Ad group\",\n",
        "      'Campaign Id': sd_campaign_name,\n",
        "      'Ad Group Id': sd_campaign_name,\n",
        "      'Ad Group Name': sd_campaign_name,\n",
        "      'Tactic': 'T00020',\n",
        "      'Ad Group Default Bid': 0.5,\n",
        "      'Bid Optimization': 'Optimize for page visits'}\n",
        "\n",
        "  #Entity = \"Product ad\"\n",
        "  sd_product_ad_row = {\n",
        "      'Entity': \"Product ad\",\n",
        "      'Campaign Id': sd_campaign_name,\n",
        "      'Ad Group Id': sd_campaign_name,\n",
        "      'sku': SKU}\n",
        "\n",
        "  df_sd = pd.concat([df_sd, pd.DataFrame([sd_campaign_row, sd_ad_group_row, sd_product_ad_row])], ignore_index=True)\n",
        "\n",
        "  #Entiry = 'Product targeting'\n",
        "  for index, row in competitor_asin.iterrows():\n",
        "      sd_asin_row = row['SD_ASIN']\n",
        "      sd_asin_rows = {\n",
        "          'Entity': 'Contextual targeting',\n",
        "          'Campaign Id': sd_campaign_name,\n",
        "          'Ad Group Id': sd_campaign_name,\n",
        "          'Bid': 0.5,\n",
        "          'Targeting Expression': sd_asin_row}\n",
        "      df_sd = pd.concat([df_sd, pd.DataFrame([sd_asin_rows])], ignore_index=True)\n",
        "\n",
        "  df_sd['Product'].fillna('Sponsored Display', inplace=True)\n",
        "  df_sd['Operation'].fillna('Create', inplace=True)\n",
        "  df_sd['State'].fillna('Enabled', inplace=True)\n",
        "  df_sd = df_sd.drop_duplicates()"
      ]
    },
    {
      "cell_type": "markdown",
      "source": [
        "# **TẢI DỮ LIỆU** #"
      ],
      "metadata": {
        "id": "Kps1vYVGut1Q"
      },
      "id": "Kps1vYVGut1Q"
    },
    {
      "cell_type": "code",
      "execution_count": null,
      "id": "a857901d",
      "metadata": {
        "id": "a857901d",
        "colab": {
          "base_uri": "https://localhost:8080/",
          "height": 17
        },
        "outputId": "cd79cf8b-5e51-43fd-fd6e-b10bd621a5bc"
      },
      "outputs": [
        {
          "output_type": "display_data",
          "data": {
            "text/plain": [
              "<IPython.core.display.Javascript object>"
            ],
            "application/javascript": [
              "\n",
              "    async function download(id, filename, size) {\n",
              "      if (!google.colab.kernel.accessAllowed) {\n",
              "        return;\n",
              "      }\n",
              "      const div = document.createElement('div');\n",
              "      const label = document.createElement('label');\n",
              "      label.textContent = `Downloading \"${filename}\": `;\n",
              "      div.appendChild(label);\n",
              "      const progress = document.createElement('progress');\n",
              "      progress.max = size;\n",
              "      div.appendChild(progress);\n",
              "      document.body.appendChild(div);\n",
              "\n",
              "      const buffers = [];\n",
              "      let downloaded = 0;\n",
              "\n",
              "      const channel = await google.colab.kernel.comms.open(id);\n",
              "      // Send a message to notify the kernel that we're ready.\n",
              "      channel.send({})\n",
              "\n",
              "      for await (const message of channel.messages) {\n",
              "        // Send a message to notify the kernel that we're ready.\n",
              "        channel.send({})\n",
              "        if (message.buffers) {\n",
              "          for (const buffer of message.buffers) {\n",
              "            buffers.push(buffer);\n",
              "            downloaded += buffer.byteLength;\n",
              "            progress.value = downloaded;\n",
              "          }\n",
              "        }\n",
              "      }\n",
              "      const blob = new Blob(buffers, {type: 'application/binary'});\n",
              "      const a = document.createElement('a');\n",
              "      a.href = window.URL.createObjectURL(blob);\n",
              "      a.download = filename;\n",
              "      div.appendChild(a);\n",
              "      a.click();\n",
              "      div.remove();\n",
              "    }\n",
              "  "
            ]
          },
          "metadata": {}
        },
        {
          "output_type": "display_data",
          "data": {
            "text/plain": [
              "<IPython.core.display.Javascript object>"
            ],
            "application/javascript": [
              "download(\"download_8805374c-7790-4b7a-9374-f64a5f6e5f6f\", \"60+10 uf 370-440VAC_campaigns.xlsx\", 394897)"
            ]
          },
          "metadata": {}
        }
      ],
      "source": [
        "output_product_name = process_text(product_name)\n",
        "with pd.ExcelWriter(output_product_name + \"_campaigns.xlsx\") as writer:\n",
        "    sp_final_data.to_excel(writer, sheet_name='Sponsored Products Campaigns', index=False)\n",
        "    sb_final_data.to_excel(writer, sheet_name='SB Multi Ad Group Campaigns', index=False)\n",
        "    df_sd.to_excel(writer, sheet_name=\"Sponsored Display Campaigns\", index=False)\n",
        "\n",
        "files.download(output_product_name + \"_campaigns.xlsx\")"
      ]
    }
  ],
  "metadata": {
    "kernelspec": {
      "display_name": "Python 3 (ipykernel)",
      "language": "python",
      "name": "python3"
    },
    "language_info": {
      "codemirror_mode": {
        "name": "ipython",
        "version": 3
      },
      "file_extension": ".py",
      "mimetype": "text/x-python",
      "name": "python",
      "nbconvert_exporter": "python",
      "pygments_lexer": "ipython3",
      "version": "3.11.5"
    },
    "colab": {
      "provenance": [],
      "include_colab_link": true
    }
  },
  "nbformat": 4,
  "nbformat_minor": 5
}
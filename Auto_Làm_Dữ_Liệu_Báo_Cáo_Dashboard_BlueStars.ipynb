{
  "cells": [
    {
      "cell_type": "markdown",
      "metadata": {
        "id": "view-in-github",
        "colab_type": "text"
      },
      "source": [
        "<a href=\"https://colab.research.google.com/github/Npkh/BlueStars-Tools/blob/main/Auto_L%C3%A0m_D%E1%BB%AF_Li%E1%BB%87u_B%C3%A1o_C%C3%A1o_Dashboard_BlueStars.ipynb\" target=\"_parent\"><img src=\"https://colab.research.google.com/assets/colab-badge.svg\" alt=\"Open In Colab\"/></a>"
      ]
    },
    {
      "cell_type": "markdown",
      "metadata": {
        "id": "YJ4AGnwUSOrO"
      },
      "source": [
        "# **Cách Thực Hiện Auto Làm Dữ Liệu Dashboard**\n",
        "*   B1: Tải File checklist sản phẩm về (file này là checklist sản phẩm, có thể cần cập nhật trong tương lai hoặc trong quá trình lọc thiếu sản phẩm. File này chỉ tải về 1 lần duy nhất là lần đầu sử dụng code. Sau đó lưu và cập nhật tên sản phẩm trực tiếp vào file này trong tương lai)\n",
        "\n",
        "[***File checklist sản phẩm***](https://docs.google.com/spreadsheets/d/1OeXnWLvYYZM34Wyf7EzW3bnCnsrw1T7f/edit?usp=sharing&ouid=105336776683915595895&rtpof=true&sd=true) - Tải file .xlsx\n",
        "\n",
        "*   B2: Copy dữ liệu của data (SB, SD, SP) sau khi tải về vào sheet \"data\", sheet này cần được clear data mỗi lần thực hiện xong báo cáo\n",
        "\n",
        "*   B3: Lưu và upload file này lên trên đoạn code này, bên dưới có option \"Upload file\"\n",
        "\n",
        "*   B4: Kết quả tải về cần format lại định dạng một số cột như:\n",
        "  - Spend, Sale sang dạng currency\n",
        "\n",
        "*   B5: Kiểm tra xem cột ***Product Number*** và ***SKU*** có giá trị \"*None*\" hay không? Nếu có cần cập nhật lại checklist sản phẩm lưu lại rồi có thể chạy lại đoạn code này hoặc điền thủ công nếu có ít giá trị trống\n",
        "\n",
        "***Lưu Ý***:\n",
        "*   Đoạn code sẽ tự động chạy và tải về kết quả, nếu không có kết quả tải về thì đoạn code đã bị lỗi, cần check lại các bước đã làm đúng hay chưa. Thời gian chạy code khoảng 7-30 phút (Tùy vào độ nặng của file)\n",
        "\n",
        "*   Nếu chẳng may xóa một đoạn code nào đó, reload lại trang này để khôi phục code\n",
        "\n",
        "*   Phải đăng nhập google drive mới có thể chạy Run all\n",
        "\n",
        "*   Các cột có giá trị là **currency** đã được tự động *0.76 khi nhập market là Canada\n",
        "\n",
        "*   Làm từng data một, không copy hết vào chung sheet data. Làm xong data nào thì clear data ở sheet \"data\" và paste data mới vào\n",
        "\n",
        "\n"
      ]
    },
    {
      "cell_type": "code",
      "execution_count": null,
      "metadata": {
        "id": "hRn-GLVbf-nu"
      },
      "outputs": [],
      "source": [
        "import pandas as pd\n",
        "import numpy as np\n",
        "from datetime import datetime\n",
        "from google.colab import files\n",
        "import warnings"
      ]
    },
    {
      "cell_type": "code",
      "execution_count": null,
      "metadata": {
        "id": "GMWrQVmBwzeS",
        "colab": {
          "base_uri": "https://localhost:8080/",
          "height": 125
        },
        "outputId": "c8e4aac3-393c-4010-bb35-341e01a0d859"
      },
      "outputs": [
        {
          "name": "stdout",
          "output_type": "stream",
          "text": [
            "Nhập thị trường tương ứng (United States or Canada): Canada\n",
            "Nhập ad_type tương ứng (SP, SD, SB): SD\n",
            "Nhập tên file Excel muốn lưu: a\n"
          ]
        },
        {
          "output_type": "display_data",
          "data": {
            "text/plain": [
              "<IPython.core.display.HTML object>"
            ],
            "text/html": [
              "\n",
              "     <input type=\"file\" id=\"files-7a8247b2-36ce-4f7c-9888-470f0977e6a6\" name=\"files[]\" multiple disabled\n",
              "        style=\"border:none\" />\n",
              "     <output id=\"result-7a8247b2-36ce-4f7c-9888-470f0977e6a6\">\n",
              "      Upload widget is only available when the cell has been executed in the\n",
              "      current browser session. Please rerun this cell to enable.\n",
              "      </output>\n",
              "      <script>// Copyright 2017 Google LLC\n",
              "//\n",
              "// Licensed under the Apache License, Version 2.0 (the \"License\");\n",
              "// you may not use this file except in compliance with the License.\n",
              "// You may obtain a copy of the License at\n",
              "//\n",
              "//      http://www.apache.org/licenses/LICENSE-2.0\n",
              "//\n",
              "// Unless required by applicable law or agreed to in writing, software\n",
              "// distributed under the License is distributed on an \"AS IS\" BASIS,\n",
              "// WITHOUT WARRANTIES OR CONDITIONS OF ANY KIND, either express or implied.\n",
              "// See the License for the specific language governing permissions and\n",
              "// limitations under the License.\n",
              "\n",
              "/**\n",
              " * @fileoverview Helpers for google.colab Python module.\n",
              " */\n",
              "(function(scope) {\n",
              "function span(text, styleAttributes = {}) {\n",
              "  const element = document.createElement('span');\n",
              "  element.textContent = text;\n",
              "  for (const key of Object.keys(styleAttributes)) {\n",
              "    element.style[key] = styleAttributes[key];\n",
              "  }\n",
              "  return element;\n",
              "}\n",
              "\n",
              "// Max number of bytes which will be uploaded at a time.\n",
              "const MAX_PAYLOAD_SIZE = 100 * 1024;\n",
              "\n",
              "function _uploadFiles(inputId, outputId) {\n",
              "  const steps = uploadFilesStep(inputId, outputId);\n",
              "  const outputElement = document.getElementById(outputId);\n",
              "  // Cache steps on the outputElement to make it available for the next call\n",
              "  // to uploadFilesContinue from Python.\n",
              "  outputElement.steps = steps;\n",
              "\n",
              "  return _uploadFilesContinue(outputId);\n",
              "}\n",
              "\n",
              "// This is roughly an async generator (not supported in the browser yet),\n",
              "// where there are multiple asynchronous steps and the Python side is going\n",
              "// to poll for completion of each step.\n",
              "// This uses a Promise to block the python side on completion of each step,\n",
              "// then passes the result of the previous step as the input to the next step.\n",
              "function _uploadFilesContinue(outputId) {\n",
              "  const outputElement = document.getElementById(outputId);\n",
              "  const steps = outputElement.steps;\n",
              "\n",
              "  const next = steps.next(outputElement.lastPromiseValue);\n",
              "  return Promise.resolve(next.value.promise).then((value) => {\n",
              "    // Cache the last promise value to make it available to the next\n",
              "    // step of the generator.\n",
              "    outputElement.lastPromiseValue = value;\n",
              "    return next.value.response;\n",
              "  });\n",
              "}\n",
              "\n",
              "/**\n",
              " * Generator function which is called between each async step of the upload\n",
              " * process.\n",
              " * @param {string} inputId Element ID of the input file picker element.\n",
              " * @param {string} outputId Element ID of the output display.\n",
              " * @return {!Iterable<!Object>} Iterable of next steps.\n",
              " */\n",
              "function* uploadFilesStep(inputId, outputId) {\n",
              "  const inputElement = document.getElementById(inputId);\n",
              "  inputElement.disabled = false;\n",
              "\n",
              "  const outputElement = document.getElementById(outputId);\n",
              "  outputElement.innerHTML = '';\n",
              "\n",
              "  const pickedPromise = new Promise((resolve) => {\n",
              "    inputElement.addEventListener('change', (e) => {\n",
              "      resolve(e.target.files);\n",
              "    });\n",
              "  });\n",
              "\n",
              "  const cancel = document.createElement('button');\n",
              "  inputElement.parentElement.appendChild(cancel);\n",
              "  cancel.textContent = 'Cancel upload';\n",
              "  const cancelPromise = new Promise((resolve) => {\n",
              "    cancel.onclick = () => {\n",
              "      resolve(null);\n",
              "    };\n",
              "  });\n",
              "\n",
              "  // Wait for the user to pick the files.\n",
              "  const files = yield {\n",
              "    promise: Promise.race([pickedPromise, cancelPromise]),\n",
              "    response: {\n",
              "      action: 'starting',\n",
              "    }\n",
              "  };\n",
              "\n",
              "  cancel.remove();\n",
              "\n",
              "  // Disable the input element since further picks are not allowed.\n",
              "  inputElement.disabled = true;\n",
              "\n",
              "  if (!files) {\n",
              "    return {\n",
              "      response: {\n",
              "        action: 'complete',\n",
              "      }\n",
              "    };\n",
              "  }\n",
              "\n",
              "  for (const file of files) {\n",
              "    const li = document.createElement('li');\n",
              "    li.append(span(file.name, {fontWeight: 'bold'}));\n",
              "    li.append(span(\n",
              "        `(${file.type || 'n/a'}) - ${file.size} bytes, ` +\n",
              "        `last modified: ${\n",
              "            file.lastModifiedDate ? file.lastModifiedDate.toLocaleDateString() :\n",
              "                                    'n/a'} - `));\n",
              "    const percent = span('0% done');\n",
              "    li.appendChild(percent);\n",
              "\n",
              "    outputElement.appendChild(li);\n",
              "\n",
              "    const fileDataPromise = new Promise((resolve) => {\n",
              "      const reader = new FileReader();\n",
              "      reader.onload = (e) => {\n",
              "        resolve(e.target.result);\n",
              "      };\n",
              "      reader.readAsArrayBuffer(file);\n",
              "    });\n",
              "    // Wait for the data to be ready.\n",
              "    let fileData = yield {\n",
              "      promise: fileDataPromise,\n",
              "      response: {\n",
              "        action: 'continue',\n",
              "      }\n",
              "    };\n",
              "\n",
              "    // Use a chunked sending to avoid message size limits. See b/62115660.\n",
              "    let position = 0;\n",
              "    do {\n",
              "      const length = Math.min(fileData.byteLength - position, MAX_PAYLOAD_SIZE);\n",
              "      const chunk = new Uint8Array(fileData, position, length);\n",
              "      position += length;\n",
              "\n",
              "      const base64 = btoa(String.fromCharCode.apply(null, chunk));\n",
              "      yield {\n",
              "        response: {\n",
              "          action: 'append',\n",
              "          file: file.name,\n",
              "          data: base64,\n",
              "        },\n",
              "      };\n",
              "\n",
              "      let percentDone = fileData.byteLength === 0 ?\n",
              "          100 :\n",
              "          Math.round((position / fileData.byteLength) * 100);\n",
              "      percent.textContent = `${percentDone}% done`;\n",
              "\n",
              "    } while (position < fileData.byteLength);\n",
              "  }\n",
              "\n",
              "  // All done.\n",
              "  yield {\n",
              "    response: {\n",
              "      action: 'complete',\n",
              "    }\n",
              "  };\n",
              "}\n",
              "\n",
              "scope.google = scope.google || {};\n",
              "scope.google.colab = scope.google.colab || {};\n",
              "scope.google.colab._files = {\n",
              "  _uploadFiles,\n",
              "  _uploadFilesContinue,\n",
              "};\n",
              "})(self);\n",
              "</script> "
            ]
          },
          "metadata": {}
        },
        {
          "output_type": "stream",
          "name": "stdout",
          "text": [
            "Saving Sponsored Display Campaign report.xlsx to Sponsored Display Campaign report (1).xlsx\n"
          ]
        }
      ],
      "source": [
        "market_input = input(\"Nhập thị trường tương ứng (United States or Canada): \")\n",
        "ad_type = input(\"Nhập ad_type tương ứng (SP, SD, SB): \")\n",
        "file_name_output = input(\"Nhập tên file Excel muốn lưu: \")\n",
        "uploaded = files.upload()"
      ]
    },
    {
      "cell_type": "code",
      "execution_count": null,
      "metadata": {
        "id": "bxqIGyjvhfSL",
        "colab": {
          "base_uri": "https://localhost:8080/"
        },
        "outputId": "9526b4fd-1930-4de9-fb0b-86bbe8a0e526"
      },
      "outputs": [
        {
          "output_type": "stream",
          "name": "stderr",
          "text": [
            "/usr/local/lib/python3.10/dist-packages/openpyxl/styles/stylesheet.py:237: UserWarning: Workbook contains no default style, apply openpyxl's default\n",
            "  warn(\"Workbook contains no default style, apply openpyxl's default\")\n"
          ]
        }
      ],
      "source": [
        "dfs = {}\n",
        "\n",
        "for file_name in uploaded.keys():\n",
        "    if file_name.endswith('.csv'):\n",
        "        dfs[file_name] = pd.read_csv(file_name)\n",
        "    elif file_name.endswith('.xlsx') or file_name.endswith('.xls'):\n",
        "        xls = pd.ExcelFile(file_name, engine='openpyxl')\n",
        "        default_sheet_name = xls.sheet_names[0]\n",
        "        dfs[file_name] = pd.read_excel(file_name, sheet_name=default_sheet_name, engine='openpyxl')\n",
        "\n",
        "first_file_name = next(iter(dfs))\n",
        "report = dfs[first_file_name]"
      ]
    },
    {
      "cell_type": "code",
      "source": [
        "product_id = pd.read_html('https://docs.google.com/spreadsheets/d/e/2PACX-1vQKItZA2bNZCY2yD52UEunCjkuq8e9yDuHLQzLqbOvLy13GeJWLWFmujTCRbrBVNA/pubhtml?gid=678803432&single=true', skiprows=1)[0]\n",
        "product_id = product_id.iloc[1:, 1:]"
      ],
      "metadata": {
        "id": "uylaXdqscCqd"
      },
      "execution_count": null,
      "outputs": []
    },
    {
      "cell_type": "code",
      "execution_count": null,
      "metadata": {
        "id": "-Iuq8zQYOoOt"
      },
      "outputs": [],
      "source": [
        "  product_id['SKU'] = product_id['SKU'].astype(str)\n",
        "  def get_matching_sku(campaign_name):\n",
        "      for sku in product_id['SKU']:\n",
        "          if sku in campaign_name:\n",
        "              return sku\n",
        "      return None\n",
        "\n",
        "  report['SKU'] = report['Campaign Name'].apply(get_matching_sku)"
      ]
    },
    {
      "cell_type": "code",
      "execution_count": null,
      "metadata": {
        "id": "FDlWeiNBgaG9"
      },
      "outputs": [],
      "source": [
        "trim_column_names = lambda x: x.strip()\n",
        "report.rename(columns=trim_column_names, inplace=True)\n",
        "\n",
        "if ad_type == 'SP':\n",
        "    report.rename(columns={'Click-Thru Rate (CTR)':'CTR',\n",
        "                     'Cost Per Click (CPC)':'CPC',\n",
        "                     '7 Day Total Orders (#)':'Orders',\n",
        "                     'Total Advertising Cost of Sales (ACOS)':'ACOS',\n",
        "                     'Total Return on Advertising Spend (ROAS)':'ROAS',\n",
        "                     '7 Day Total Sales':'Sales'}, inplace=True)\n",
        "\n",
        "elif ad_type == 'SB':\n",
        "    report.rename(columns={'Click-Thru Rate (CTR)':'CTR',\n",
        "                         'Cost Per Click (CPC)':'CPC',\n",
        "                         '14 Day Total Orders (#)':'Orders',\n",
        "                         'Total Advertising Cost of Sales (ACOS)':'ACOS',\n",
        "                         'Total Return on Advertising Spend (ROAS)':'ROAS',\n",
        "                         '14 Day Total Sales':'Sales'}, inplace=True)\n",
        "\n",
        "elif ad_type =='SD':\n",
        "    report.rename(columns={'Click-Thru Rate (CTR)':'CTR',\n",
        "                         'Cost Per Click (CPC)':'CPC',\n",
        "                         '14 Day Total Orders (#)':'Orders',\n",
        "                         'Total Advertising Cost of Sales (ACOS)':'ACOS',\n",
        "                         'Total Return on Advertising Spend (ROAS)':'ROAS',\n",
        "                         '14 Day Total Sales':'Sales'}, inplace=True)"
      ]
    },
    {
      "cell_type": "code",
      "execution_count": null,
      "metadata": {
        "id": "69VDrtWVrsLU"
      },
      "outputs": [],
      "source": [
        "  if ad_type != \"SB\" and report['Budget'].dtype == 'object':\n",
        "\n",
        "    report['Budget'] = report['Budget'].astype(str)\n",
        "\n",
        "    report['Budget'] = report['Budget'].str.replace(\"CA\", \"\").str.replace(\"US\", \"\").str.replace(\"$\", \"\").str.replace(\",\", \"\")\n",
        "\n",
        "    report['Budget'] = report['Budget'].astype(float)\n",
        "\n",
        "if report['Spend'].dtype == 'object':\n",
        "\n",
        "    report['Spend'] = report['Spend'].astype(str)\n",
        "\n",
        "    report['Spend'] = report['Spend'].str.replace(\"CA\", \"\").str.replace(\"US\", \"\").str.replace(\"$\", \"\").str.replace(\",\", \"\")\n",
        "\n",
        "    report['Spend'] = report['Spend'].astype(float)\n",
        "\n",
        "if report['CPC'].dtype == 'object':\n",
        "\n",
        "    report['CPC'] = report['CPC'].astype(str)\n",
        "\n",
        "    report['CPC'] = report['CPC'].str.replace(\"CA\", \"\").str.replace(\"US\", \"\").str.replace(\"$\", \"\").str.replace(\",\", \"\")\n",
        "\n",
        "    report['CPC'] = report['CPC'].astype(float)\n",
        "\n",
        "if report['Sales'].dtype == 'object':\n",
        "\n",
        "    report['Sales'] = report['Sales'].astype(str)\n",
        "\n",
        "    report['Sales'] = report['Sales'].str.replace(\"CA\", \"\").str.replace(\"US\", \"\").str.replace(\"$\", \"\").str.replace(\",\", \"\")\n",
        "\n",
        "    report['Sales'] = report['Sales'].astype(float)"
      ]
    },
    {
      "cell_type": "code",
      "execution_count": null,
      "metadata": {
        "id": "VQzDbgrew9PQ"
      },
      "outputs": [],
      "source": [
        "report['Product Number'] = np.nan\n",
        "report['SKU'] = report['SKU'].astype(str)"
      ]
    },
    {
      "cell_type": "code",
      "execution_count": null,
      "metadata": {
        "id": "Y0al_rtlig7a"
      },
      "outputs": [],
      "source": [
        "report['Cost Type'] = report['Campaign Name'].apply(lambda x: 'CPM' if 'CPM' in x else 'CPC')\n",
        "\n",
        "if ad_type == \"SP\":\n",
        "  def classify_campaign_name(campaign_name):\n",
        "    words = campaign_name.split()\n",
        "\n",
        "    if \"Auto\" in words:\n",
        "        return \"Auto\"\n",
        "    elif \"Query\" in words or \"query\" in words:\n",
        "        return \"SP Query\"\n",
        "    elif \"jido\" in words:\n",
        "        return \"Auto\"\n",
        "    elif \"Research\" in words:\n",
        "        return \"Research\"\n",
        "    elif \"Performance\" in words:\n",
        "        return \"Performance\"\n",
        "    elif \"term\" in words or \"terms\" in words:\n",
        "        return \"search terms\"\n",
        "    elif \"TD\" in words:\n",
        "        return \"TD\"\n",
        "    elif \"Broad\" in words:\n",
        "        return \"SP Broad\"\n",
        "    elif \"Exact\" in words or \"EX8\" in words:\n",
        "        return \"SP Exact\"\n",
        "    elif \"TOS\" in words:\n",
        "        return \"TOS\"\n",
        "    elif \"PP\" in words:\n",
        "        return \"PP\"\n",
        "    elif \"PT\" in words:\n",
        "        return \"SP PT\"\n",
        "    else:\n",
        "        return \"SP Phrase\"\n",
        "\n",
        "elif ad_type == \"SB\":\n",
        "  def classify_campaign_name(campaign_name):\n",
        "    if \"Video Ads Phrase\" in campaign_name:\n",
        "        return \"SB Video Phrase\"\n",
        "    elif \"Video Ads Broad\" in campaign_name:\n",
        "        return \"SB Video Broad\"\n",
        "    elif \"SB Video Exact\" in campaign_name:\n",
        "        return \"SB Video Exact\"\n",
        "    elif \"Video Ads PT\" in campaign_name:\n",
        "        return \"SB Video PT\"\n",
        "    elif \"Video Ads Query\" in campaign_name:\n",
        "        return \"SB Video Query\"\n",
        "    else:\n",
        "        return \"SB\"\n",
        "\n",
        "if ad_type == \"SD\":\n",
        "  report['Campaign Form'] = 'SD PT'\n",
        "else:\n",
        "  report['Campaign Form'] = report['Campaign Name'].apply(classify_campaign_name)\n",
        "\n",
        "if market_input == \"Canada\":\n",
        "  report['Spend'] = report['Spend'] * 0.76\n",
        "  report['Sales'] = report['Sales'] * 0.76\n",
        "\n",
        "report['Market'] = market_input\n",
        "report['Brand'] = \"BlueStars\"\n",
        "\n",
        "if ad_type == \"SB\":\n",
        "  report[\"Campaign Type\"] = 'Sponsor Brands'\n",
        "  report[\"Status\"] = np.nan\n",
        "  report[\"Budget\"] = np.nan\n",
        "  report[\"Targeting Type\"] = np.nan\n",
        "  report[\"Bidding strategy\"] = np.nan\n",
        "\n",
        "elif ad_type == \"SD\":\n",
        "  report[\"Campaign Type\"] = 'Sponsor Display'\n",
        "  report[\"Targeting Type\"] = np.nan\n",
        "  report[\"Bidding strategy\"] = np.nan\n",
        "\n",
        "report['Start Date'] = np.nan\n",
        "report['End Date'] = np.nan\n",
        "\n",
        "order1 = ['Date', 'Campaign Type', 'Campaign Name','Bidding strategy',\n",
        "         'Impressions','Clicks', 'Spend',\n",
        "         'Orders', 'Sales', 'Product Number',\n",
        "         'Campaign Form', 'Market', 'Brand', 'Cost Type', 'SKU']\n",
        "\n",
        "data_merge1 = report[order1]"
      ]
    },
    {
      "cell_type": "code",
      "execution_count": null,
      "metadata": {
        "id": "BXT6fs9gTX8K",
        "colab": {
          "base_uri": "https://localhost:8080/"
        },
        "outputId": "a0229fe5-082f-46c7-a364-54a1b4c000fd"
      },
      "outputs": [
        {
          "output_type": "stream",
          "name": "stdout",
          "text": [
            "Dữ liệu hoàn chỉnh. Không cần kiểm tra\n"
          ]
        }
      ],
      "source": [
        "  if 'SKU' in report.columns:\n",
        "      sku_none = (report['SKU'] == 'None').any()\n",
        "\n",
        "      if sku_none:\n",
        "          print(\"WARNING: Cột 'SKU' có giá trị None, cần kiểm tra lại!!!\")\n",
        "      else:\n",
        "          print(\"Dữ liệu hoàn chỉnh. Không cần kiểm tra\")\n",
        "  else:\n",
        "      print(\"Không tìm thấy cột 'SKU' trong báo cáo.\")"
      ]
    },
    {
      "cell_type": "code",
      "execution_count": null,
      "metadata": {
        "id": "WZK1Mubmiimd",
        "colab": {
          "base_uri": "https://localhost:8080/",
          "height": 17
        },
        "outputId": "0b09a1f4-20cc-4685-c00d-7752fd6a82df"
      },
      "outputs": [
        {
          "output_type": "display_data",
          "data": {
            "text/plain": [
              "<IPython.core.display.Javascript object>"
            ],
            "application/javascript": [
              "\n",
              "    async function download(id, filename, size) {\n",
              "      if (!google.colab.kernel.accessAllowed) {\n",
              "        return;\n",
              "      }\n",
              "      const div = document.createElement('div');\n",
              "      const label = document.createElement('label');\n",
              "      label.textContent = `Downloading \"${filename}\": `;\n",
              "      div.appendChild(label);\n",
              "      const progress = document.createElement('progress');\n",
              "      progress.max = size;\n",
              "      div.appendChild(progress);\n",
              "      document.body.appendChild(div);\n",
              "\n",
              "      const buffers = [];\n",
              "      let downloaded = 0;\n",
              "\n",
              "      const channel = await google.colab.kernel.comms.open(id);\n",
              "      // Send a message to notify the kernel that we're ready.\n",
              "      channel.send({})\n",
              "\n",
              "      for await (const message of channel.messages) {\n",
              "        // Send a message to notify the kernel that we're ready.\n",
              "        channel.send({})\n",
              "        if (message.buffers) {\n",
              "          for (const buffer of message.buffers) {\n",
              "            buffers.push(buffer);\n",
              "            downloaded += buffer.byteLength;\n",
              "            progress.value = downloaded;\n",
              "          }\n",
              "        }\n",
              "      }\n",
              "      const blob = new Blob(buffers, {type: 'application/binary'});\n",
              "      const a = document.createElement('a');\n",
              "      a.href = window.URL.createObjectURL(blob);\n",
              "      a.download = filename;\n",
              "      div.appendChild(a);\n",
              "      a.click();\n",
              "      div.remove();\n",
              "    }\n",
              "  "
            ]
          },
          "metadata": {}
        },
        {
          "output_type": "display_data",
          "data": {
            "text/plain": [
              "<IPython.core.display.Javascript object>"
            ],
            "application/javascript": [
              "download(\"download_93968b36-0ed9-4578-9d9c-d9aaa837017c\", \"a.xlsx\", 213259)"
            ]
          },
          "metadata": {}
        }
      ],
      "source": [
        "with pd.ExcelWriter(file_name_output + \".xlsx\") as writer:\n",
        "    data_merge1.to_excel(writer, sheet_name='Sheet1', index=False)\n",
        "\n",
        "files.download(file_name_output + \".xlsx\")"
      ]
    }
  ],
  "metadata": {
    "colab": {
      "provenance": [],
      "authorship_tag": "ABX9TyPEaZTrt93hRKSK+ACI8I56",
      "include_colab_link": true
    },
    "kernelspec": {
      "display_name": "Python 3",
      "name": "python3"
    },
    "language_info": {
      "name": "python"
    }
  },
  "nbformat": 4,
  "nbformat_minor": 0
}